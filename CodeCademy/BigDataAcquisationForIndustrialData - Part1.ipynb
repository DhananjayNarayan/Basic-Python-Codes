{
 "cells": [
  {
   "cell_type": "code",
   "execution_count": 1,
   "metadata": {
    "_cell_guid": "79c7e3d0-c299-4dcb-8224-4455121ee9b0",
    "_uuid": "d629ff2d2480ee46fbb7e2d37f6b5fab8052498a"
   },
   "outputs": [],
   "source": [
    "import pandas as pd\n",
    "import numpy as np \n",
    "import seaborn as sns\n",
    "import matplotlib.pyplot as plt\n",
    "from pandas import DataFrame, Series\n",
    "%matplotlib inline\n",
    "import calendar\n"
   ]
  },
  {
   "cell_type": "code",
   "execution_count": 2,
   "metadata": {
    "_uuid": "bb6bbb7d8a62110b1279120bd7c9dd99473324d5"
   },
   "outputs": [],
   "source": [
    "dset=pd.read_csv('Dataset.csv')"
   ]
  },
  {
   "cell_type": "code",
   "execution_count": 3,
   "metadata": {
    "_uuid": "02b5b4021daacbac256b68eb7be4bc2d5ee5748e"
   },
   "outputs": [
    {
     "data": {
      "text/html": [
       "<div>\n",
       "<style scoped>\n",
       "    .dataframe tbody tr th:only-of-type {\n",
       "        vertical-align: middle;\n",
       "    }\n",
       "\n",
       "    .dataframe tbody tr th {\n",
       "        vertical-align: top;\n",
       "    }\n",
       "\n",
       "    .dataframe thead th {\n",
       "        text-align: right;\n",
       "    }\n",
       "</style>\n",
       "<table border=\"1\" class=\"dataframe\">\n",
       "  <thead>\n",
       "    <tr style=\"text-align: right;\">\n",
       "      <th></th>\n",
       "      <th>Unnamed: 0</th>\n",
       "      <th>Data</th>\n",
       "      <th>Countries</th>\n",
       "      <th>Local</th>\n",
       "      <th>Industry Sector</th>\n",
       "      <th>Accident Level</th>\n",
       "      <th>Potential Accident Level</th>\n",
       "      <th>Genre</th>\n",
       "      <th>Employee or Third Party</th>\n",
       "      <th>Critical Risk</th>\n",
       "      <th>Description</th>\n",
       "    </tr>\n",
       "  </thead>\n",
       "  <tbody>\n",
       "    <tr>\n",
       "      <td>0</td>\n",
       "      <td>0</td>\n",
       "      <td>2016-01-01 00:00:00</td>\n",
       "      <td>Country_01</td>\n",
       "      <td>Local_01</td>\n",
       "      <td>Mining</td>\n",
       "      <td>I</td>\n",
       "      <td>IV</td>\n",
       "      <td>Male</td>\n",
       "      <td>Third Party</td>\n",
       "      <td>Pressed</td>\n",
       "      <td>While removing the drill rod of the Jumbo 08 f...</td>\n",
       "    </tr>\n",
       "    <tr>\n",
       "      <td>1</td>\n",
       "      <td>1</td>\n",
       "      <td>2016-01-02 00:00:00</td>\n",
       "      <td>Country_02</td>\n",
       "      <td>Local_02</td>\n",
       "      <td>Mining</td>\n",
       "      <td>I</td>\n",
       "      <td>IV</td>\n",
       "      <td>Male</td>\n",
       "      <td>Employee</td>\n",
       "      <td>Pressurized Systems</td>\n",
       "      <td>During the activation of a sodium sulphide pum...</td>\n",
       "    </tr>\n",
       "    <tr>\n",
       "      <td>2</td>\n",
       "      <td>2</td>\n",
       "      <td>2016-01-06 00:00:00</td>\n",
       "      <td>Country_01</td>\n",
       "      <td>Local_03</td>\n",
       "      <td>Mining</td>\n",
       "      <td>I</td>\n",
       "      <td>III</td>\n",
       "      <td>Male</td>\n",
       "      <td>Third Party (Remote)</td>\n",
       "      <td>Manual Tools</td>\n",
       "      <td>In the sub-station MILPO located at level +170...</td>\n",
       "    </tr>\n",
       "    <tr>\n",
       "      <td>3</td>\n",
       "      <td>3</td>\n",
       "      <td>2016-01-08 00:00:00</td>\n",
       "      <td>Country_01</td>\n",
       "      <td>Local_04</td>\n",
       "      <td>Mining</td>\n",
       "      <td>I</td>\n",
       "      <td>I</td>\n",
       "      <td>Male</td>\n",
       "      <td>Third Party</td>\n",
       "      <td>Others</td>\n",
       "      <td>Being 9:45 am. approximately in the Nv. 1880 C...</td>\n",
       "    </tr>\n",
       "    <tr>\n",
       "      <td>4</td>\n",
       "      <td>4</td>\n",
       "      <td>2016-01-10 00:00:00</td>\n",
       "      <td>Country_01</td>\n",
       "      <td>Local_04</td>\n",
       "      <td>Mining</td>\n",
       "      <td>IV</td>\n",
       "      <td>IV</td>\n",
       "      <td>Male</td>\n",
       "      <td>Third Party</td>\n",
       "      <td>Others</td>\n",
       "      <td>Approximately at 11:45 a.m. in circumstances t...</td>\n",
       "    </tr>\n",
       "  </tbody>\n",
       "</table>\n",
       "</div>"
      ],
      "text/plain": [
       "   Unnamed: 0                 Data   Countries     Local Industry Sector  \\\n",
       "0           0  2016-01-01 00:00:00  Country_01  Local_01          Mining   \n",
       "1           1  2016-01-02 00:00:00  Country_02  Local_02          Mining   \n",
       "2           2  2016-01-06 00:00:00  Country_01  Local_03          Mining   \n",
       "3           3  2016-01-08 00:00:00  Country_01  Local_04          Mining   \n",
       "4           4  2016-01-10 00:00:00  Country_01  Local_04          Mining   \n",
       "\n",
       "  Accident Level Potential Accident Level Genre Employee or Third Party  \\\n",
       "0              I                       IV  Male             Third Party   \n",
       "1              I                       IV  Male                Employee   \n",
       "2              I                      III  Male    Third Party (Remote)   \n",
       "3              I                        I  Male             Third Party   \n",
       "4             IV                       IV  Male             Third Party   \n",
       "\n",
       "         Critical Risk                                        Description  \n",
       "0              Pressed  While removing the drill rod of the Jumbo 08 f...  \n",
       "1  Pressurized Systems  During the activation of a sodium sulphide pum...  \n",
       "2         Manual Tools  In the sub-station MILPO located at level +170...  \n",
       "3               Others  Being 9:45 am. approximately in the Nv. 1880 C...  \n",
       "4               Others  Approximately at 11:45 a.m. in circumstances t...  "
      ]
     },
     "execution_count": 3,
     "metadata": {},
     "output_type": "execute_result"
    }
   ],
   "source": [
    "dset.head()"
   ]
  },
  {
   "cell_type": "code",
   "execution_count": 4,
   "metadata": {
    "_uuid": "ca09843ffda5d9f630b1d453df70ebde9a181555"
   },
   "outputs": [
    {
     "data": {
      "text/plain": [
       "4675"
      ]
     },
     "execution_count": 4,
     "metadata": {},
     "output_type": "execute_result"
    }
   ],
   "source": [
    "dset.size"
   ]
  },
  {
   "cell_type": "code",
   "execution_count": 5,
   "metadata": {
    "_uuid": "459b7e942e36b62265be18e952de1d697c18f6b2"
   },
   "outputs": [
    {
     "data": {
      "text/plain": [
       "Unnamed: 0                  0\n",
       "Data                        0\n",
       "Countries                   0\n",
       "Local                       0\n",
       "Industry Sector             0\n",
       "Accident Level              0\n",
       "Potential Accident Level    0\n",
       "Genre                       0\n",
       "Employee or Third Party     0\n",
       "Critical Risk               0\n",
       "Description                 0\n",
       "dtype: int64"
      ]
     },
     "execution_count": 5,
     "metadata": {},
     "output_type": "execute_result"
    }
   ],
   "source": [
    "dset.isnull().sum()"
   ]
  },
  {
   "cell_type": "markdown",
   "metadata": {
    "_uuid": "6e353556d51726272974fa3ba02c54adab6afb29"
   },
   "source": [
    "There are no null values but we need to do some clean up:"
   ]
  },
  {
   "cell_type": "code",
   "execution_count": 6,
   "metadata": {
    "_uuid": "c1290e2bc09ad6b3270d847091b79d2af0a60d55"
   },
   "outputs": [],
   "source": [
    "del dset['Unnamed: 0']"
   ]
  },
  {
   "cell_type": "code",
   "execution_count": 7,
   "metadata": {
    "_uuid": "8f7e6685240d3b7b80d5773474db6ce103b42ef5"
   },
   "outputs": [
    {
     "data": {
      "text/html": [
       "<div>\n",
       "<style scoped>\n",
       "    .dataframe tbody tr th:only-of-type {\n",
       "        vertical-align: middle;\n",
       "    }\n",
       "\n",
       "    .dataframe tbody tr th {\n",
       "        vertical-align: top;\n",
       "    }\n",
       "\n",
       "    .dataframe thead th {\n",
       "        text-align: right;\n",
       "    }\n",
       "</style>\n",
       "<table border=\"1\" class=\"dataframe\">\n",
       "  <thead>\n",
       "    <tr style=\"text-align: right;\">\n",
       "      <th></th>\n",
       "      <th>Data</th>\n",
       "      <th>Countries</th>\n",
       "      <th>Local</th>\n",
       "      <th>Industry Sector</th>\n",
       "      <th>Accident Level</th>\n",
       "      <th>Potential Accident Level</th>\n",
       "      <th>Genre</th>\n",
       "      <th>Employee or Third Party</th>\n",
       "      <th>Critical Risk</th>\n",
       "      <th>Description</th>\n",
       "    </tr>\n",
       "  </thead>\n",
       "  <tbody>\n",
       "    <tr>\n",
       "      <td>0</td>\n",
       "      <td>2016-01-01 00:00:00</td>\n",
       "      <td>Country_01</td>\n",
       "      <td>Local_01</td>\n",
       "      <td>Mining</td>\n",
       "      <td>I</td>\n",
       "      <td>IV</td>\n",
       "      <td>Male</td>\n",
       "      <td>Third Party</td>\n",
       "      <td>Pressed</td>\n",
       "      <td>While removing the drill rod of the Jumbo 08 f...</td>\n",
       "    </tr>\n",
       "    <tr>\n",
       "      <td>1</td>\n",
       "      <td>2016-01-02 00:00:00</td>\n",
       "      <td>Country_02</td>\n",
       "      <td>Local_02</td>\n",
       "      <td>Mining</td>\n",
       "      <td>I</td>\n",
       "      <td>IV</td>\n",
       "      <td>Male</td>\n",
       "      <td>Employee</td>\n",
       "      <td>Pressurized Systems</td>\n",
       "      <td>During the activation of a sodium sulphide pum...</td>\n",
       "    </tr>\n",
       "    <tr>\n",
       "      <td>2</td>\n",
       "      <td>2016-01-06 00:00:00</td>\n",
       "      <td>Country_01</td>\n",
       "      <td>Local_03</td>\n",
       "      <td>Mining</td>\n",
       "      <td>I</td>\n",
       "      <td>III</td>\n",
       "      <td>Male</td>\n",
       "      <td>Third Party (Remote)</td>\n",
       "      <td>Manual Tools</td>\n",
       "      <td>In the sub-station MILPO located at level +170...</td>\n",
       "    </tr>\n",
       "    <tr>\n",
       "      <td>3</td>\n",
       "      <td>2016-01-08 00:00:00</td>\n",
       "      <td>Country_01</td>\n",
       "      <td>Local_04</td>\n",
       "      <td>Mining</td>\n",
       "      <td>I</td>\n",
       "      <td>I</td>\n",
       "      <td>Male</td>\n",
       "      <td>Third Party</td>\n",
       "      <td>Others</td>\n",
       "      <td>Being 9:45 am. approximately in the Nv. 1880 C...</td>\n",
       "    </tr>\n",
       "    <tr>\n",
       "      <td>4</td>\n",
       "      <td>2016-01-10 00:00:00</td>\n",
       "      <td>Country_01</td>\n",
       "      <td>Local_04</td>\n",
       "      <td>Mining</td>\n",
       "      <td>IV</td>\n",
       "      <td>IV</td>\n",
       "      <td>Male</td>\n",
       "      <td>Third Party</td>\n",
       "      <td>Others</td>\n",
       "      <td>Approximately at 11:45 a.m. in circumstances t...</td>\n",
       "    </tr>\n",
       "  </tbody>\n",
       "</table>\n",
       "</div>"
      ],
      "text/plain": [
       "                  Data   Countries     Local Industry Sector Accident Level  \\\n",
       "0  2016-01-01 00:00:00  Country_01  Local_01          Mining              I   \n",
       "1  2016-01-02 00:00:00  Country_02  Local_02          Mining              I   \n",
       "2  2016-01-06 00:00:00  Country_01  Local_03          Mining              I   \n",
       "3  2016-01-08 00:00:00  Country_01  Local_04          Mining              I   \n",
       "4  2016-01-10 00:00:00  Country_01  Local_04          Mining             IV   \n",
       "\n",
       "  Potential Accident Level Genre Employee or Third Party        Critical Risk  \\\n",
       "0                       IV  Male             Third Party              Pressed   \n",
       "1                       IV  Male                Employee  Pressurized Systems   \n",
       "2                      III  Male    Third Party (Remote)         Manual Tools   \n",
       "3                        I  Male             Third Party               Others   \n",
       "4                       IV  Male             Third Party               Others   \n",
       "\n",
       "                                         Description  \n",
       "0  While removing the drill rod of the Jumbo 08 f...  \n",
       "1  During the activation of a sodium sulphide pum...  \n",
       "2  In the sub-station MILPO located at level +170...  \n",
       "3  Being 9:45 am. approximately in the Nv. 1880 C...  \n",
       "4  Approximately at 11:45 a.m. in circumstances t...  "
      ]
     },
     "execution_count": 7,
     "metadata": {},
     "output_type": "execute_result"
    }
   ],
   "source": [
    "dset.head()"
   ]
  },
  {
   "cell_type": "code",
   "execution_count": 8,
   "metadata": {
    "_uuid": "b0f626c44275593295b901fae010ad9c658579cf"
   },
   "outputs": [],
   "source": [
    "dset.rename(columns={'Data': 'Date', 'Genre': 'Gender', 'Employee or Third Party':'Employee type'}, inplace=True)"
   ]
  },
  {
   "cell_type": "code",
   "execution_count": 9,
   "metadata": {
    "_uuid": "e6b0c023b844f714fc363b337126fb35b538f625"
   },
   "outputs": [
    {
     "data": {
      "text/plain": [
       "'2017-07-09 00:00:00'"
      ]
     },
     "execution_count": 9,
     "metadata": {},
     "output_type": "execute_result"
    }
   ],
   "source": [
    "dset.Date.max()"
   ]
  },
  {
   "cell_type": "code",
   "execution_count": 10,
   "metadata": {
    "_uuid": "dbf363e33f55a91784af0326cfd4c4a86756ecc9"
   },
   "outputs": [
    {
     "data": {
      "text/plain": [
       "'2016-01-01 00:00:00'"
      ]
     },
     "execution_count": 10,
     "metadata": {},
     "output_type": "execute_result"
    }
   ],
   "source": [
    "dset.Date.min()"
   ]
  },
  {
   "cell_type": "code",
   "execution_count": 11,
   "metadata": {
    "_uuid": "cb91013bc70cb7b3bed507eb2149576d6e0cf4c6"
   },
   "outputs": [],
   "source": [
    "dset['Date'] = pd.to_datetime(dset['Date'])"
   ]
  },
  {
   "cell_type": "code",
   "execution_count": 12,
   "metadata": {
    "_uuid": "3e6615d418e48002e16ccc9535804d05f2905f35"
   },
   "outputs": [],
   "source": [
    "month_order={\n",
    "    'January':1,\n",
    "    'February':2,\n",
    "    'March':3,\n",
    "    'April':4,\n",
    "    'May':5,\n",
    "    'June':6,\n",
    "    'July':7,\n",
    "    'August':8,\n",
    "    'September':9,\n",
    "    'October':10,\n",
    "    'November':11,\n",
    "    'December':12\n",
    "}"
   ]
  },
  {
   "cell_type": "code",
   "execution_count": 13,
   "metadata": {
    "_uuid": "b5ea963bc84fa93b4e6636e1b0e000e17067ec8e"
   },
   "outputs": [
    {
     "data": {
      "text/plain": [
       "<matplotlib.legend.Legend at 0x156a11c3fc8>"
      ]
     },
     "execution_count": 13,
     "metadata": {},
     "output_type": "execute_result"
    },
    {
     "data": {
      "image/png": "[encoded data removed]",
      "text/plain": [
       "<Figure size 1080x288 with 1 Axes>"
      ]
     },
     "metadata": {
      "needs_background": "light"
     },
     "output_type": "display_data"
    }
   ],
   "source": [
    "dset.groupby('Date').count()['Local'].plot(figsize=(15,4))\n",
    "plt.legend(bbox_to_anchor=(1.05, 1), loc=2, borderaxespad=0.)"
   ]
  },
  {
   "cell_type": "code",
   "execution_count": 14,
   "metadata": {
    "_uuid": "f868408214b068aab73673c7b8fae7592c43ba8c"
   },
   "outputs": [],
   "source": [
    "def month_n(a):\n",
    "    b=calendar.month_name[a]\n",
    "    return b"
   ]
  },
  {
   "cell_type": "code",
   "execution_count": 15,
   "metadata": {
    "_uuid": "290f9d55fe269c221c7fbdc64f4db30df5c3dfa7"
   },
   "outputs": [],
   "source": [
    "x=[]\n",
    "for i in range (0, len(dset.Date)):\n",
    "                x.append(month_n(dset.Date.loc[i].month))"
   ]
  },
  {
   "cell_type": "code",
   "execution_count": 16,
   "metadata": {
    "_uuid": "70b3ef35a614c729fb94442dde24905e77fed033"
   },
   "outputs": [],
   "source": [
    "y=[]\n",
    "for i in range (0, len(dset.Date)):\n",
    "                y.append(dset.Date.loc[i].year)"
   ]
  },
  {
   "cell_type": "code",
   "execution_count": 17,
   "metadata": {
    "_uuid": "52a0081520b3b79250b950c1b1c22deb25300a87"
   },
   "outputs": [],
   "source": [
    "dset['month']=x\n",
    "dset['year']=y"
   ]
  },
  {
   "cell_type": "code",
   "execution_count": 18,
   "metadata": {
    "_uuid": "ffd6dbc9b02f26bb7586b2a3f0992a6c31d4b219"
   },
   "outputs": [
    {
     "data": {
      "text/html": [
       "<div>\n",
       "<style scoped>\n",
       "    .dataframe tbody tr th:only-of-type {\n",
       "        vertical-align: middle;\n",
       "    }\n",
       "\n",
       "    .dataframe tbody tr th {\n",
       "        vertical-align: top;\n",
       "    }\n",
       "\n",
       "    .dataframe thead th {\n",
       "        text-align: right;\n",
       "    }\n",
       "</style>\n",
       "<table border=\"1\" class=\"dataframe\">\n",
       "  <thead>\n",
       "    <tr style=\"text-align: right;\">\n",
       "      <th></th>\n",
       "      <th>Date</th>\n",
       "      <th>Countries</th>\n",
       "      <th>Local</th>\n",
       "      <th>Industry Sector</th>\n",
       "      <th>Accident Level</th>\n",
       "      <th>Potential Accident Level</th>\n",
       "      <th>Gender</th>\n",
       "      <th>Employee type</th>\n",
       "      <th>Critical Risk</th>\n",
       "      <th>Description</th>\n",
       "      <th>month</th>\n",
       "      <th>year</th>\n",
       "    </tr>\n",
       "  </thead>\n",
       "  <tbody>\n",
       "    <tr>\n",
       "      <td>0</td>\n",
       "      <td>2016-01-01</td>\n",
       "      <td>Country_01</td>\n",
       "      <td>Local_01</td>\n",
       "      <td>Mining</td>\n",
       "      <td>I</td>\n",
       "      <td>IV</td>\n",
       "      <td>Male</td>\n",
       "      <td>Third Party</td>\n",
       "      <td>Pressed</td>\n",
       "      <td>While removing the drill rod of the Jumbo 08 f...</td>\n",
       "      <td>January</td>\n",
       "      <td>2016</td>\n",
       "    </tr>\n",
       "    <tr>\n",
       "      <td>1</td>\n",
       "      <td>2016-01-02</td>\n",
       "      <td>Country_02</td>\n",
       "      <td>Local_02</td>\n",
       "      <td>Mining</td>\n",
       "      <td>I</td>\n",
       "      <td>IV</td>\n",
       "      <td>Male</td>\n",
       "      <td>Employee</td>\n",
       "      <td>Pressurized Systems</td>\n",
       "      <td>During the activation of a sodium sulphide pum...</td>\n",
       "      <td>January</td>\n",
       "      <td>2016</td>\n",
       "    </tr>\n",
       "    <tr>\n",
       "      <td>2</td>\n",
       "      <td>2016-01-06</td>\n",
       "      <td>Country_01</td>\n",
       "      <td>Local_03</td>\n",
       "      <td>Mining</td>\n",
       "      <td>I</td>\n",
       "      <td>III</td>\n",
       "      <td>Male</td>\n",
       "      <td>Third Party (Remote)</td>\n",
       "      <td>Manual Tools</td>\n",
       "      <td>In the sub-station MILPO located at level +170...</td>\n",
       "      <td>January</td>\n",
       "      <td>2016</td>\n",
       "    </tr>\n",
       "  </tbody>\n",
       "</table>\n",
       "</div>"
      ],
      "text/plain": [
       "        Date   Countries     Local Industry Sector Accident Level  \\\n",
       "0 2016-01-01  Country_01  Local_01          Mining              I   \n",
       "1 2016-01-02  Country_02  Local_02          Mining              I   \n",
       "2 2016-01-06  Country_01  Local_03          Mining              I   \n",
       "\n",
       "  Potential Accident Level Gender         Employee type        Critical Risk  \\\n",
       "0                       IV   Male           Third Party              Pressed   \n",
       "1                       IV   Male              Employee  Pressurized Systems   \n",
       "2                      III   Male  Third Party (Remote)         Manual Tools   \n",
       "\n",
       "                                         Description    month  year  \n",
       "0  While removing the drill rod of the Jumbo 08 f...  January  2016  \n",
       "1  During the activation of a sodium sulphide pum...  January  2016  \n",
       "2  In the sub-station MILPO located at level +170...  January  2016  "
      ]
     },
     "execution_count": 18,
     "metadata": {},
     "output_type": "execute_result"
    }
   ],
   "source": [
    "dset.head(3)"
   ]
  },
  {
   "cell_type": "code",
   "execution_count": 19,
   "metadata": {
    "_uuid": "596d3608584664261fdcbe73ff36c9b56473576e"
   },
   "outputs": [],
   "source": [
    "dset_trend=dset.pivot_table(index='month', columns=[ 'year','Accident Level'], aggfunc='count')['Countries']\n"
   ]
  },
  {
   "cell_type": "code",
   "execution_count": 20,
   "metadata": {
    "_uuid": "1580f5fe360d052808fa6f5f6a511659fbc720b6"
   },
   "outputs": [],
   "source": [
    "n=np.nan\n",
    "dset_trend.replace(n,0,inplace=True)"
   ]
  },
  {
   "cell_type": "code",
   "execution_count": 21,
   "metadata": {
    "_uuid": "ec16249aeb27d8cb4663b0de9b7c3793a248223a"
   },
   "outputs": [
    {
     "data": {
      "text/html": [
       "<div>\n",
       "<style scoped>\n",
       "    .dataframe tbody tr th:only-of-type {\n",
       "        vertical-align: middle;\n",
       "    }\n",
       "\n",
       "    .dataframe tbody tr th {\n",
       "        vertical-align: top;\n",
       "    }\n",
       "\n",
       "    .dataframe thead tr th {\n",
       "        text-align: left;\n",
       "    }\n",
       "\n",
       "    .dataframe thead tr:last-of-type th {\n",
       "        text-align: right;\n",
       "    }\n",
       "</style>\n",
       "<table border=\"1\" class=\"dataframe\">\n",
       "  <thead>\n",
       "    <tr>\n",
       "      <th>year</th>\n",
       "      <th colspan=\"5\" halign=\"left\">2016</th>\n",
       "      <th colspan=\"5\" halign=\"left\">2017</th>\n",
       "    </tr>\n",
       "    <tr>\n",
       "      <th>Accident Level</th>\n",
       "      <th>I</th>\n",
       "      <th>II</th>\n",
       "      <th>III</th>\n",
       "      <th>IV</th>\n",
       "      <th>V</th>\n",
       "      <th>I</th>\n",
       "      <th>II</th>\n",
       "      <th>III</th>\n",
       "      <th>IV</th>\n",
       "      <th>V</th>\n",
       "    </tr>\n",
       "    <tr>\n",
       "      <th>month</th>\n",
       "      <th></th>\n",
       "      <th></th>\n",
       "      <th></th>\n",
       "      <th></th>\n",
       "      <th></th>\n",
       "      <th></th>\n",
       "      <th></th>\n",
       "      <th></th>\n",
       "      <th></th>\n",
       "      <th></th>\n",
       "    </tr>\n",
       "  </thead>\n",
       "  <tbody>\n",
       "    <tr>\n",
       "      <td>April</td>\n",
       "      <td>24.0</td>\n",
       "      <td>1.0</td>\n",
       "      <td>3.0</td>\n",
       "      <td>1.0</td>\n",
       "      <td>0.0</td>\n",
       "      <td>20.0</td>\n",
       "      <td>1.0</td>\n",
       "      <td>0.0</td>\n",
       "      <td>2.0</td>\n",
       "      <td>0.0</td>\n",
       "    </tr>\n",
       "    <tr>\n",
       "      <td>August</td>\n",
       "      <td>15.0</td>\n",
       "      <td>3.0</td>\n",
       "      <td>2.0</td>\n",
       "      <td>1.0</td>\n",
       "      <td>0.0</td>\n",
       "      <td>0.0</td>\n",
       "      <td>0.0</td>\n",
       "      <td>0.0</td>\n",
       "      <td>0.0</td>\n",
       "      <td>0.0</td>\n",
       "    </tr>\n",
       "  </tbody>\n",
       "</table>\n",
       "</div>"
      ],
      "text/plain": [
       "year            2016                      2017                    \n",
       "Accident Level     I   II  III   IV    V     I   II  III   IV    V\n",
       "month                                                             \n",
       "April           24.0  1.0  3.0  1.0  0.0  20.0  1.0  0.0  2.0  0.0\n",
       "August          15.0  3.0  2.0  1.0  0.0   0.0  0.0  0.0  0.0  0.0"
      ]
     },
     "execution_count": 21,
     "metadata": {},
     "output_type": "execute_result"
    }
   ],
   "source": [
    "dset_trend.head(2)"
   ]
  },
  {
   "cell_type": "code",
   "execution_count": 22,
   "metadata": {
    "_uuid": "6dc1039acc434dbaf3faadfc8dfc22ffd026d1ed"
   },
   "outputs": [
    {
     "data": {
      "text/html": [
       "<div>\n",
       "<style scoped>\n",
       "    .dataframe tbody tr th:only-of-type {\n",
       "        vertical-align: middle;\n",
       "    }\n",
       "\n",
       "    .dataframe tbody tr th {\n",
       "        vertical-align: top;\n",
       "    }\n",
       "\n",
       "    .dataframe thead th {\n",
       "        text-align: right;\n",
       "    }\n",
       "</style>\n",
       "<table border=\"1\" class=\"dataframe\">\n",
       "  <thead>\n",
       "    <tr style=\"text-align: right;\">\n",
       "      <th>Accident Level</th>\n",
       "      <th>I</th>\n",
       "      <th>II</th>\n",
       "      <th>III</th>\n",
       "      <th>IV</th>\n",
       "      <th>V</th>\n",
       "    </tr>\n",
       "    <tr>\n",
       "      <th>month</th>\n",
       "      <th></th>\n",
       "      <th></th>\n",
       "      <th></th>\n",
       "      <th></th>\n",
       "      <th></th>\n",
       "    </tr>\n",
       "  </thead>\n",
       "  <tbody>\n",
       "    <tr>\n",
       "      <td>April</td>\n",
       "      <td>24.0</td>\n",
       "      <td>1.0</td>\n",
       "      <td>3.0</td>\n",
       "      <td>1.0</td>\n",
       "      <td>0.0</td>\n",
       "    </tr>\n",
       "    <tr>\n",
       "      <td>August</td>\n",
       "      <td>15.0</td>\n",
       "      <td>3.0</td>\n",
       "      <td>2.0</td>\n",
       "      <td>1.0</td>\n",
       "      <td>0.0</td>\n",
       "    </tr>\n",
       "    <tr>\n",
       "      <td>December</td>\n",
       "      <td>18.0</td>\n",
       "      <td>2.0</td>\n",
       "      <td>3.0</td>\n",
       "      <td>1.0</td>\n",
       "      <td>0.0</td>\n",
       "    </tr>\n",
       "    <tr>\n",
       "      <td>February</td>\n",
       "      <td>23.0</td>\n",
       "      <td>4.0</td>\n",
       "      <td>2.0</td>\n",
       "      <td>1.0</td>\n",
       "      <td>1.0</td>\n",
       "    </tr>\n",
       "    <tr>\n",
       "      <td>January</td>\n",
       "      <td>11.0</td>\n",
       "      <td>0.0</td>\n",
       "      <td>0.0</td>\n",
       "      <td>1.0</td>\n",
       "      <td>0.0</td>\n",
       "    </tr>\n",
       "    <tr>\n",
       "      <td>July</td>\n",
       "      <td>11.0</td>\n",
       "      <td>1.0</td>\n",
       "      <td>4.0</td>\n",
       "      <td>2.0</td>\n",
       "      <td>1.0</td>\n",
       "    </tr>\n",
       "    <tr>\n",
       "      <td>June</td>\n",
       "      <td>26.0</td>\n",
       "      <td>1.0</td>\n",
       "      <td>0.0</td>\n",
       "      <td>3.0</td>\n",
       "      <td>1.0</td>\n",
       "    </tr>\n",
       "    <tr>\n",
       "      <td>March</td>\n",
       "      <td>24.0</td>\n",
       "      <td>4.0</td>\n",
       "      <td>3.0</td>\n",
       "      <td>3.0</td>\n",
       "      <td>0.0</td>\n",
       "    </tr>\n",
       "    <tr>\n",
       "      <td>May</td>\n",
       "      <td>23.0</td>\n",
       "      <td>2.0</td>\n",
       "      <td>0.0</td>\n",
       "      <td>1.0</td>\n",
       "      <td>0.0</td>\n",
       "    </tr>\n",
       "    <tr>\n",
       "      <td>November</td>\n",
       "      <td>9.0</td>\n",
       "      <td>1.0</td>\n",
       "      <td>1.0</td>\n",
       "      <td>2.0</td>\n",
       "      <td>0.0</td>\n",
       "    </tr>\n",
       "    <tr>\n",
       "      <td>October</td>\n",
       "      <td>11.0</td>\n",
       "      <td>4.0</td>\n",
       "      <td>4.0</td>\n",
       "      <td>2.0</td>\n",
       "      <td>0.0</td>\n",
       "    </tr>\n",
       "    <tr>\n",
       "      <td>September</td>\n",
       "      <td>18.0</td>\n",
       "      <td>3.0</td>\n",
       "      <td>2.0</td>\n",
       "      <td>1.0</td>\n",
       "      <td>0.0</td>\n",
       "    </tr>\n",
       "  </tbody>\n",
       "</table>\n",
       "</div>"
      ],
      "text/plain": [
       "Accident Level     I   II  III   IV    V\n",
       "month                                   \n",
       "April           24.0  1.0  3.0  1.0  0.0\n",
       "August          15.0  3.0  2.0  1.0  0.0\n",
       "December        18.0  2.0  3.0  1.0  0.0\n",
       "February        23.0  4.0  2.0  1.0  1.0\n",
       "January         11.0  0.0  0.0  1.0  0.0\n",
       "July            11.0  1.0  4.0  2.0  1.0\n",
       "June            26.0  1.0  0.0  3.0  1.0\n",
       "March           24.0  4.0  3.0  3.0  0.0\n",
       "May             23.0  2.0  0.0  1.0  0.0\n",
       "November         9.0  1.0  1.0  2.0  0.0\n",
       "October         11.0  4.0  4.0  2.0  0.0\n",
       "September       18.0  3.0  2.0  1.0  0.0"
      ]
     },
     "execution_count": 22,
     "metadata": {},
     "output_type": "execute_result"
    }
   ],
   "source": [
    "dset_trend[2016]"
   ]
  },
  {
   "cell_type": "code",
   "execution_count": 23,
   "metadata": {
    "_uuid": "d9c02894ce63993f3887c2d845e1c1eb7973cf71"
   },
   "outputs": [
    {
     "data": {
      "text/plain": [
       "<matplotlib.legend.Legend at 0x156a16ebf08>"
      ]
     },
     "execution_count": 23,
     "metadata": {},
     "output_type": "execute_result"
    },
    {
     "data": {
      "image/png": "[encoded data removed]",
      "text/plain": [
       "<Figure size 1080x288 with 1 Axes>"
      ]
     },
     "metadata": {
      "needs_background": "light"
     },
     "output_type": "display_data"
    },
    {
     "data": {
      "image/png": "[encoded data removed]",
      "text/plain": [
       "<Figure size 1080x288 with 1 Axes>"
      ]
     },
     "metadata": {
      "needs_background": "light"
     },
     "output_type": "display_data"
    }
   ],
   "source": [
    "dset_trend[2016].loc[month_order].plot(kind='bar', figsize=(15,4), width=0.9, cmap='cool', title='2016')\n",
    "plt.legend(bbox_to_anchor=(1.05, 1), loc=2, borderaxespad=0.)\n",
    "dset_trend[2017].loc[month_order].plot(kind='bar', figsize=(15,4), width=0.9, cmap='hot', title='2017')\n",
    "plt.legend(bbox_to_anchor=(1.05, 1), loc=2, borderaxespad=0.)"
   ]
  },
  {
   "cell_type": "code",
   "execution_count": 24,
   "metadata": {
    "_uuid": "33bdd7afda2bc110729b71e803856672588fd002"
   },
   "outputs": [],
   "source": [
    "order={'I':1, 'II':2, 'III':3, 'IV':4, 'V':5}"
   ]
  },
  {
   "cell_type": "code",
   "execution_count": 25,
   "metadata": {
    "_uuid": "8a87f8c0acd80c49ed2d027bef1da2974e9ae1d6"
   },
   "outputs": [
    {
     "data": {
      "text/plain": [
       "<matplotlib.legend.Legend at 0x156a14d3108>"
      ]
     },
     "execution_count": 25,
     "metadata": {},
     "output_type": "execute_result"
    },
    {
     "data": {
      "image/png": "[encoded data removed]",
      "text/plain": [
       "<Figure size 777.6x216 with 3 Axes>"
      ]
     },
     "metadata": {
      "needs_background": "light"
     },
     "output_type": "display_data"
    }
   ],
   "source": [
    "fig=sns.FacetGrid(dset,aspect=1.2,palette=\"winter\", hue='Gender',col='Industry Sector', legend_out=True)\n",
    "fig.map(sns.countplot, 'Accident Level', order=order)\n",
    "plt.legend(bbox_to_anchor=(1.05, 1), loc=2, borderaxespad=0.)\n"
   ]
  },
  {
   "cell_type": "code",
   "execution_count": 26,
   "metadata": {
    "_uuid": "ac04853ff4f19dce2ef94d7d318e9a7480686405"
   },
   "outputs": [
    {
     "name": "stderr",
     "output_type": "stream",
     "text": [
      "No handles with labels found to put in legend.\n"
     ]
    },
    {
     "data": {
      "text/plain": [
       "<matplotlib.legend.Legend at 0x156a171bd08>"
      ]
     },
     "execution_count": 26,
     "metadata": {},
     "output_type": "execute_result"
    },
    {
     "data": {
      "image/png": "[encoded data removed]",
      "text/plain": [
       "<Figure size 432x288 with 1 Axes>"
      ]
     },
     "metadata": {
      "needs_background": "light"
     },
     "output_type": "display_data"
    }
   ],
   "source": [
    "sns.countplot('Employee type',data=dset,palette='cool' )\n",
    "plt.legend(bbox_to_anchor=(1.05, 1), loc=2, borderaxespad=0.)"
   ]
  },
  {
   "cell_type": "code",
   "execution_count": 27,
   "metadata": {
    "_uuid": "7c4c458f18bf8b924e19e7e60fbadce6f4cbb343"
   },
   "outputs": [
    {
     "data": {
      "text/plain": [
       "array(['IV', 'III', 'I', 'II', 'V', 'VI'], dtype=object)"
      ]
     },
     "execution_count": 27,
     "metadata": {},
     "output_type": "execute_result"
    }
   ],
   "source": [
    "dset['Potential Accident Level'].unique()"
   ]
  },
  {
   "cell_type": "code",
   "execution_count": 28,
   "metadata": {
    "_uuid": "5a9d12bf154c3d45ace50b20e7294f370c9654d8"
   },
   "outputs": [],
   "source": [
    "order2={'I': 1, 'II': 2, 'III': 3, 'IV': 4, 'V': 5, 'VI': 6}"
   ]
  },
  {
   "cell_type": "code",
   "execution_count": 29,
   "metadata": {
    "_uuid": "626f2235569ea2ec99f8146f383712a82173d577"
   },
   "outputs": [],
   "source": [
    "q=Series()\n",
    "for i in range(0, len(dset)):\n",
    "    q=q.append(Series(order2[dset.loc[i]['Accident Level']]*order2[dset.loc[i]['Potential Accident Level']]), ignore_index=True)"
   ]
  },
  {
   "cell_type": "code",
   "execution_count": 30,
   "metadata": {
    "_uuid": "2fd3cc80ae9e7bf00308d9b978b141a8f27e9079"
   },
   "outputs": [],
   "source": [
    "dset['Accident Impact']=q"
   ]
  },
  {
   "cell_type": "code",
   "execution_count": 31,
   "metadata": {
    "_uuid": "bc88ae495e6e40c07cfd5e37a7a0ac171db78ec8",
    "scrolled": true
   },
   "outputs": [
    {
     "data": {
      "text/html": [
       "<div>\n",
       "<style scoped>\n",
       "    .dataframe tbody tr th:only-of-type {\n",
       "        vertical-align: middle;\n",
       "    }\n",
       "\n",
       "    .dataframe tbody tr th {\n",
       "        vertical-align: top;\n",
       "    }\n",
       "\n",
       "    .dataframe thead th {\n",
       "        text-align: right;\n",
       "    }\n",
       "</style>\n",
       "<table border=\"1\" class=\"dataframe\">\n",
       "  <thead>\n",
       "    <tr style=\"text-align: right;\">\n",
       "      <th></th>\n",
       "      <th>Date</th>\n",
       "      <th>Countries</th>\n",
       "      <th>Local</th>\n",
       "      <th>Industry Sector</th>\n",
       "      <th>Accident Level</th>\n",
       "      <th>Potential Accident Level</th>\n",
       "      <th>Gender</th>\n",
       "      <th>Employee type</th>\n",
       "      <th>Critical Risk</th>\n",
       "      <th>Description</th>\n",
       "      <th>month</th>\n",
       "      <th>year</th>\n",
       "      <th>Accident Impact</th>\n",
       "    </tr>\n",
       "  </thead>\n",
       "  <tbody>\n",
       "    <tr>\n",
       "      <td>0</td>\n",
       "      <td>2016-01-01</td>\n",
       "      <td>Country_01</td>\n",
       "      <td>Local_01</td>\n",
       "      <td>Mining</td>\n",
       "      <td>I</td>\n",
       "      <td>IV</td>\n",
       "      <td>Male</td>\n",
       "      <td>Third Party</td>\n",
       "      <td>Pressed</td>\n",
       "      <td>While removing the drill rod of the Jumbo 08 f...</td>\n",
       "      <td>January</td>\n",
       "      <td>2016</td>\n",
       "      <td>4</td>\n",
       "    </tr>\n",
       "    <tr>\n",
       "      <td>1</td>\n",
       "      <td>2016-01-02</td>\n",
       "      <td>Country_02</td>\n",
       "      <td>Local_02</td>\n",
       "      <td>Mining</td>\n",
       "      <td>I</td>\n",
       "      <td>IV</td>\n",
       "      <td>Male</td>\n",
       "      <td>Employee</td>\n",
       "      <td>Pressurized Systems</td>\n",
       "      <td>During the activation of a sodium sulphide pum...</td>\n",
       "      <td>January</td>\n",
       "      <td>2016</td>\n",
       "      <td>4</td>\n",
       "    </tr>\n",
       "    <tr>\n",
       "      <td>2</td>\n",
       "      <td>2016-01-06</td>\n",
       "      <td>Country_01</td>\n",
       "      <td>Local_03</td>\n",
       "      <td>Mining</td>\n",
       "      <td>I</td>\n",
       "      <td>III</td>\n",
       "      <td>Male</td>\n",
       "      <td>Third Party (Remote)</td>\n",
       "      <td>Manual Tools</td>\n",
       "      <td>In the sub-station MILPO located at level +170...</td>\n",
       "      <td>January</td>\n",
       "      <td>2016</td>\n",
       "      <td>3</td>\n",
       "    </tr>\n",
       "    <tr>\n",
       "      <td>3</td>\n",
       "      <td>2016-01-08</td>\n",
       "      <td>Country_01</td>\n",
       "      <td>Local_04</td>\n",
       "      <td>Mining</td>\n",
       "      <td>I</td>\n",
       "      <td>I</td>\n",
       "      <td>Male</td>\n",
       "      <td>Third Party</td>\n",
       "      <td>Others</td>\n",
       "      <td>Being 9:45 am. approximately in the Nv. 1880 C...</td>\n",
       "      <td>January</td>\n",
       "      <td>2016</td>\n",
       "      <td>1</td>\n",
       "    </tr>\n",
       "    <tr>\n",
       "      <td>4</td>\n",
       "      <td>2016-01-10</td>\n",
       "      <td>Country_01</td>\n",
       "      <td>Local_04</td>\n",
       "      <td>Mining</td>\n",
       "      <td>IV</td>\n",
       "      <td>IV</td>\n",
       "      <td>Male</td>\n",
       "      <td>Third Party</td>\n",
       "      <td>Others</td>\n",
       "      <td>Approximately at 11:45 a.m. in circumstances t...</td>\n",
       "      <td>January</td>\n",
       "      <td>2016</td>\n",
       "      <td>16</td>\n",
       "    </tr>\n",
       "  </tbody>\n",
       "</table>\n",
       "</div>"
      ],
      "text/plain": [
       "        Date   Countries     Local Industry Sector Accident Level  \\\n",
       "0 2016-01-01  Country_01  Local_01          Mining              I   \n",
       "1 2016-01-02  Country_02  Local_02          Mining              I   \n",
       "2 2016-01-06  Country_01  Local_03          Mining              I   \n",
       "3 2016-01-08  Country_01  Local_04          Mining              I   \n",
       "4 2016-01-10  Country_01  Local_04          Mining             IV   \n",
       "\n",
       "  Potential Accident Level Gender         Employee type        Critical Risk  \\\n",
       "0                       IV   Male           Third Party              Pressed   \n",
       "1                       IV   Male              Employee  Pressurized Systems   \n",
       "2                      III   Male  Third Party (Remote)         Manual Tools   \n",
       "3                        I   Male           Third Party               Others   \n",
       "4                       IV   Male           Third Party               Others   \n",
       "\n",
       "                                         Description    month  year  \\\n",
       "0  While removing the drill rod of the Jumbo 08 f...  January  2016   \n",
       "1  During the activation of a sodium sulphide pum...  January  2016   \n",
       "2  In the sub-station MILPO located at level +170...  January  2016   \n",
       "3  Being 9:45 am. approximately in the Nv. 1880 C...  January  2016   \n",
       "4  Approximately at 11:45 a.m. in circumstances t...  January  2016   \n",
       "\n",
       "   Accident Impact  \n",
       "0                4  \n",
       "1                4  \n",
       "2                3  \n",
       "3                1  \n",
       "4               16  "
      ]
     },
     "execution_count": 31,
     "metadata": {},
     "output_type": "execute_result"
    }
   ],
   "source": [
    "dset.head(5)"
   ]
  },
  {
   "cell_type": "code",
   "execution_count": 32,
   "metadata": {
    "_uuid": "3f2935c7fef9be7ee97ddd205e0b7ec77c8f3d74",
    "scrolled": true
   },
   "outputs": [
    {
     "data": {
      "text/plain": [
       "<matplotlib.axes._subplots.AxesSubplot at 0x156a1a2e248>"
      ]
     },
     "execution_count": 32,
     "metadata": {},
     "output_type": "execute_result"
    },
    {
     "data": {
      "image/png": "[encoded data removed]",
      "text/plain": [
       "<Figure size 1080x288 with 1 Axes>"
      ]
     },
     "metadata": {
      "needs_background": "light"
     },
     "output_type": "display_data"
    }
   ],
   "source": [
    "dset.plot(x='Date', y='Accident Impact', figsize=(15,4), kind='line')"
   ]
  },
  {
   "cell_type": "code",
   "execution_count": 33,
   "metadata": {
    "_uuid": "e3f22f000e551c155271d81eb6536c7c1f3af0c5"
   },
   "outputs": [
    {
     "data": {
      "text/plain": [
       "<matplotlib.collections.LineCollection at 0x156a1d58608>"
      ]
     },
     "execution_count": 33,
     "metadata": {},
     "output_type": "execute_result"
    },
    {
     "data": {
      "image/png": "[encoded data removed]",
      "text/plain": [
       "<Figure size 1080x288 with 1 Axes>"
      ]
     },
     "metadata": {
      "needs_background": "light"
     },
     "output_type": "display_data"
    }
   ],
   "source": [
    "dset.plot(x='Date', y='Accident Impact', figsize=(15,4), kind='line')\n",
    "plt.text(x='2016-6-15', y=28.5, s='July 2016', color='red', fontsize=12)\n",
    "plt.vlines(x='2016-7-1', ymin=25, ymax=28, color='red', linestyles=':', linewidth=3)\n",
    "plt.text(x='2017-3-5', y=28.5, s='March 2017', color='red', fontsize=12)\n",
    "plt.vlines(x='2017-3-15', ymin=25, ymax=28, color='red', linestyles=':', linewidth=3)\n"
   ]
  },
  {
   "cell_type": "code",
   "execution_count": 34,
   "metadata": {
    "_uuid": "c269bf2858a4485e1bc398aced93c50b2d6d0b1b"
   },
   "outputs": [
    {
     "data": {
      "text/plain": [
       "<matplotlib.axes._subplots.AxesSubplot at 0x156a1d88808>"
      ]
     },
     "execution_count": 34,
     "metadata": {},
     "output_type": "execute_result"
    },
    {
     "data": {
      "image/png": "[encoded data removed]",
      "text/plain": [
       "<Figure size 1080x288 with 1 Axes>"
      ]
     },
     "metadata": {
      "needs_background": "light"
     },
     "output_type": "display_data"
    }
   ],
   "source": [
    "plt.figure(figsize=(15,4))\n",
    "sns.boxplot(x='month', y='Accident Impact', data=dset, palette='Set3', saturation=1)\n"
   ]
  },
  {
   "cell_type": "code",
   "execution_count": 35,
   "metadata": {
    "_uuid": "54578d4bce5d8718e2add7ea827baa5847dc21e4"
   },
   "outputs": [],
   "source": [
    "wd=[]\n",
    "for i in range(len(dset)):\n",
    "    wd.append(dset['Date'].loc[i].weekday())"
   ]
  },
  {
   "cell_type": "code",
   "execution_count": 36,
   "metadata": {
    "_uuid": "bf3b1ea9bb317a7831fb56a34c74463fc7b67e3f"
   },
   "outputs": [],
   "source": [
    "weekday={'0':'Monday',\n",
    "        '1':'Tuesday', \n",
    "        '2':'Wednesday',\n",
    "        '3':'Thursday',\n",
    "        '4':'Friday',\n",
    "        '5':'Saturday',\n",
    "        '6':'Sunday'}"
   ]
  },
  {
   "cell_type": "code",
   "execution_count": 37,
   "metadata": {
    "_uuid": "1fdf562b9577f7daf5256618e2b9038c8d910fd1"
   },
   "outputs": [],
   "source": [
    "wd_order={'Monday':1,\n",
    "        'Tuesday':2, \n",
    "        'Wednesday':3,\n",
    "        'Thursday':4,\n",
    "        'Friday':5,\n",
    "        'Saturday':6,\n",
    "        'Sunday':7}"
   ]
  },
  {
   "cell_type": "code",
   "execution_count": 38,
   "metadata": {
    "_uuid": "c0b7854a2885c08ad00403820019d606ac702698"
   },
   "outputs": [],
   "source": [
    "wwd=[]\n",
    "for i in wd:\n",
    "    wwd.append(weekday[str(i)])"
   ]
  },
  {
   "cell_type": "code",
   "execution_count": 39,
   "metadata": {
    "_uuid": "2fe5d3ecba0ccaebc8dfde8356c8482ab990a81d"
   },
   "outputs": [],
   "source": [
    "dset['weekday']=wwd"
   ]
  },
  {
   "cell_type": "code",
   "execution_count": 40,
   "metadata": {
    "_uuid": "474aa46928197b0b8abec292dc63f6482bb008ed"
   },
   "outputs": [],
   "source": [
    "week_d=dset.pivot_table(index='weekday', columns='Industry Sector', aggfunc='count')['Accident Level']"
   ]
  },
  {
   "cell_type": "code",
   "execution_count": 41,
   "metadata": {
    "_uuid": "8e43901dd53f1a922a0b850bfbdcf41ea1b33696"
   },
   "outputs": [
    {
     "data": {
      "text/plain": [
       "Text(0, 0.5, 'number of Accident')"
      ]
     },
     "execution_count": 41,
     "metadata": {},
     "output_type": "execute_result"
    },
    {
     "data": {
      "image/png": "[encoded data removed]",
      "text/plain": [
       "<Figure size 720x288 with 1 Axes>"
      ]
     },
     "metadata": {
      "needs_background": "light"
     },
     "output_type": "display_data"
    }
   ],
   "source": [
    "week_d.loc[wd_order].plot(figsize=(10,4), xticks=range(7), cmap='Dark2', kind='line')\n",
    "plt.ylabel('number of Accident')"
   ]
  },
  {
   "cell_type": "code",
   "execution_count": 42,
   "metadata": {
    "_uuid": "399e23f2cd636ae5ea9904e77727e644ba540943"
   },
   "outputs": [
    {
     "data": {
      "text/plain": [
       "<matplotlib.axes._subplots.AxesSubplot at 0x156a1b14f88>"
      ]
     },
     "execution_count": 42,
     "metadata": {},
     "output_type": "execute_result"
    },
    {
     "data": {
      "image/png": "[encoded data removed]",
      "text/plain": [
       "<Figure size 648x288 with 1 Axes>"
      ]
     },
     "metadata": {
      "needs_background": "light"
     },
     "output_type": "display_data"
    }
   ],
   "source": [
    "dset.groupby('weekday').count()['month'].loc[wd_order].plot(kind='line', figsize=(9,4), xticks=range(0,8), color='#FF6A6A')"
   ]
  },
  {
   "cell_type": "code",
   "execution_count": 43,
   "metadata": {
    "_uuid": "9e586933b5f5fb66f7f8bd70200240993cdc3680"
   },
   "outputs": [
    {
     "name": "stderr",
     "output_type": "stream",
     "text": [
      "D:\\WisenProgramData\\Anaconda3\\lib\\site-packages\\seaborn\\categorical.py:3666: UserWarning: The `factorplot` function has been renamed to `catplot`. The original name will be removed in a future release. Please update your code. Note that the default `kind` in `factorplot` (`'point'`) has changed `'strip'` in `catplot`.\n",
      "  warnings.warn(msg)\n",
      "D:\\WisenProgramData\\Anaconda3\\lib\\site-packages\\seaborn\\categorical.py:3672: UserWarning: The `size` paramter has been renamed to `height`; please update your code.\n",
      "  warnings.warn(msg, UserWarning)\n"
     ]
    },
    {
     "data": {
      "text/plain": [
       "<seaborn.axisgrid.FacetGrid at 0x156a1b4ef88>"
      ]
     },
     "execution_count": 43,
     "metadata": {},
     "output_type": "execute_result"
    },
    {
     "data": {
      "image/png": "[encoded data removed]",
      "text/plain": [
       "<Figure size 660.125x288 with 1 Axes>"
      ]
     },
     "metadata": {
      "needs_background": "light"
     },
     "output_type": "display_data"
    }
   ],
   "source": [
    "sns.factorplot(x='year', y='Accident Impact', data=dset, hue='Industry Sector', aspect=2, size=4)"
   ]
  },
  {
   "cell_type": "code",
   "execution_count": 44,
   "metadata": {
    "_uuid": "ddb25497baa671a8926e1da2f625a3b9310f5167"
   },
   "outputs": [],
   "source": [
    "dset_ind=dset.groupby('Industry Sector').count()['Date']"
   ]
  },
  {
   "cell_type": "code",
   "execution_count": 45,
   "metadata": {
    "_uuid": "47ef0d244c0d153fb9c70b5e7f1b7128e1efc11f"
   },
   "outputs": [],
   "source": [
    "dset_ind_imp=dset.groupby('Industry Sector')['Accident Impact'].mean()"
   ]
  },
  {
   "cell_type": "code",
   "execution_count": 46,
   "metadata": {
    "_uuid": "f111686672ae23594a0ff5909a03d13cb5bb9c7d"
   },
   "outputs": [
    {
     "data": {
      "text/plain": [
       "<matplotlib.axes._subplots.AxesSubplot at 0x156a1e0a0c8>"
      ]
     },
     "execution_count": 46,
     "metadata": {},
     "output_type": "execute_result"
    },
    {
     "data": {
      "image/png": "[encoded data removed]",
      "text/plain": [
       "<Figure size 360x360 with 1 Axes>"
      ]
     },
     "metadata": {},
     "output_type": "display_data"
    }
   ],
   "source": [
    "dset_ind_imp.plot(kind='pie', figsize=(5,5), cmap='Set1', autopct='%.2f', title='Mean Accident Impact')\n"
   ]
  },
  {
   "cell_type": "code",
   "execution_count": 47,
   "metadata": {
    "_uuid": "b3fdbd1022201a9bba8a7ef47c726b7df4936ab6"
   },
   "outputs": [
    {
     "data": {
      "text/plain": [
       "<matplotlib.axes._subplots.AxesSubplot at 0x1569fa39d08>"
      ]
     },
     "execution_count": 47,
     "metadata": {},
     "output_type": "execute_result"
    },
    {
     "data": {
      "image/png": "[encoded data removed]",
      "text/plain": [
       "<Figure size 360x360 with 1 Axes>"
      ]
     },
     "metadata": {},
     "output_type": "display_data"
    }
   ],
   "source": [
    "dset_ind.plot(kind='pie', figsize=(5,5), cmap='Set2', autopct='%.2f', title='Number of Incidents')"
   ]
  },
  {
   "cell_type": "code",
   "execution_count": 48,
   "metadata": {
    "_uuid": "60328e14c2e3b4aa4a1c06ccc7e1eacf714dc8cd"
   },
   "outputs": [],
   "source": [
    "dset_cr=dset.pivot_table(index='Critical Risk', columns='Accident Level', aggfunc='count')['month']\n",
    "dset_cr.replace(n, 0, inplace=True)\n",
    "dset_cr['total']=dset_cr.sum(axis=1)"
   ]
  },
  {
   "cell_type": "code",
   "execution_count": 49,
   "metadata": {
    "_uuid": "2c4973d5f2b7d28e146b5375b7a65d82e70261ee"
   },
   "outputs": [
    {
     "data": {
      "text/html": [
       "<style  type=\"text/css\" >\n",
       "    #T_a2545c82_3c49_11ea_9a24_54bf64129b61row0_col0 {\n",
       "            background-color:  #f7fbff;\n",
       "            color:  #000000;\n",
       "        }    #T_a2545c82_3c49_11ea_9a24_54bf64129b61row0_col1 {\n",
       "            background-color:  #f7fbff;\n",
       "            color:  #000000;\n",
       "        }    #T_a2545c82_3c49_11ea_9a24_54bf64129b61row0_col2 {\n",
       "            background-color:  #f7fbff;\n",
       "            color:  #000000;\n",
       "        }    #T_a2545c82_3c49_11ea_9a24_54bf64129b61row0_col3 {\n",
       "            background-color:  #e8f1fa;\n",
       "            color:  #000000;\n",
       "        }    #T_a2545c82_3c49_11ea_9a24_54bf64129b61row0_col4 {\n",
       "            background-color:  #f7fbff;\n",
       "            color:  #000000;\n",
       "        }    #T_a2545c82_3c49_11ea_9a24_54bf64129b61row0_col5 {\n",
       "            background-color:  #f7fbff;\n",
       "            color:  #000000;\n",
       "        }    #T_a2545c82_3c49_11ea_9a24_54bf64129b61row1_col0 {\n",
       "            background-color:  #ecf4fb;\n",
       "            color:  #000000;\n",
       "        }    #T_a2545c82_3c49_11ea_9a24_54bf64129b61row1_col1 {\n",
       "            background-color:  #f7fbff;\n",
       "            color:  #000000;\n",
       "        }    #T_a2545c82_3c49_11ea_9a24_54bf64129b61row1_col2 {\n",
       "            background-color:  #f7fbff;\n",
       "            color:  #000000;\n",
       "        }    #T_a2545c82_3c49_11ea_9a24_54bf64129b61row1_col3 {\n",
       "            background-color:  #f7fbff;\n",
       "            color:  #000000;\n",
       "        }    #T_a2545c82_3c49_11ea_9a24_54bf64129b61row1_col4 {\n",
       "            background-color:  #f7fbff;\n",
       "            color:  #000000;\n",
       "        }    #T_a2545c82_3c49_11ea_9a24_54bf64129b61row1_col5 {\n",
       "            background-color:  #f0f6fd;\n",
       "            color:  #000000;\n",
       "        }    #T_a2545c82_3c49_11ea_9a24_54bf64129b61row2_col0 {\n",
       "            background-color:  #f4f9fe;\n",
       "            color:  #000000;\n",
       "        }    #T_a2545c82_3c49_11ea_9a24_54bf64129b61row2_col1 {\n",
       "            background-color:  #f7fbff;\n",
       "            color:  #000000;\n",
       "        }    #T_a2545c82_3c49_11ea_9a24_54bf64129b61row2_col2 {\n",
       "            background-color:  #f7fbff;\n",
       "            color:  #000000;\n",
       "        }    #T_a2545c82_3c49_11ea_9a24_54bf64129b61row2_col3 {\n",
       "            background-color:  #f7fbff;\n",
       "            color:  #000000;\n",
       "        }    #T_a2545c82_3c49_11ea_9a24_54bf64129b61row2_col4 {\n",
       "            background-color:  #f7fbff;\n",
       "            color:  #000000;\n",
       "        }    #T_a2545c82_3c49_11ea_9a24_54bf64129b61row2_col5 {\n",
       "            background-color:  #f5fafe;\n",
       "            color:  #000000;\n",
       "        }    #T_a2545c82_3c49_11ea_9a24_54bf64129b61row3_col0 {\n",
       "            background-color:  #f7fbff;\n",
       "            color:  #000000;\n",
       "        }    #T_a2545c82_3c49_11ea_9a24_54bf64129b61row3_col1 {\n",
       "            background-color:  #f7fbff;\n",
       "            color:  #000000;\n",
       "        }    #T_a2545c82_3c49_11ea_9a24_54bf64129b61row3_col2 {\n",
       "            background-color:  #eef5fc;\n",
       "            color:  #000000;\n",
       "        }    #T_a2545c82_3c49_11ea_9a24_54bf64129b61row3_col3 {\n",
       "            background-color:  #f7fbff;\n",
       "            color:  #000000;\n",
       "        }    #T_a2545c82_3c49_11ea_9a24_54bf64129b61row3_col4 {\n",
       "            background-color:  #f7fbff;\n",
       "            color:  #000000;\n",
       "        }    #T_a2545c82_3c49_11ea_9a24_54bf64129b61row3_col5 {\n",
       "            background-color:  #f7fbff;\n",
       "            color:  #000000;\n",
       "        }    #T_a2545c82_3c49_11ea_9a24_54bf64129b61row4_col0 {\n",
       "            background-color:  #e6f0f9;\n",
       "            color:  #000000;\n",
       "        }    #T_a2545c82_3c49_11ea_9a24_54bf64129b61row4_col1 {\n",
       "            background-color:  #e4eff9;\n",
       "            color:  #000000;\n",
       "        }    #T_a2545c82_3c49_11ea_9a24_54bf64129b61row4_col2 {\n",
       "            background-color:  #f7fbff;\n",
       "            color:  #000000;\n",
       "        }    #T_a2545c82_3c49_11ea_9a24_54bf64129b61row4_col3 {\n",
       "            background-color:  #f7fbff;\n",
       "            color:  #000000;\n",
       "        }    #T_a2545c82_3c49_11ea_9a24_54bf64129b61row4_col4 {\n",
       "            background-color:  #f7fbff;\n",
       "            color:  #000000;\n",
       "        }    #T_a2545c82_3c49_11ea_9a24_54bf64129b61row4_col5 {\n",
       "            background-color:  #eaf2fb;\n",
       "            color:  #000000;\n",
       "        }    #T_a2545c82_3c49_11ea_9a24_54bf64129b61row5_col0 {\n",
       "            background-color:  #f6faff;\n",
       "            color:  #000000;\n",
       "        }    #T_a2545c82_3c49_11ea_9a24_54bf64129b61row5_col1 {\n",
       "            background-color:  #f7fbff;\n",
       "            color:  #000000;\n",
       "        }    #T_a2545c82_3c49_11ea_9a24_54bf64129b61row5_col2 {\n",
       "            background-color:  #f7fbff;\n",
       "            color:  #000000;\n",
       "        }    #T_a2545c82_3c49_11ea_9a24_54bf64129b61row5_col3 {\n",
       "            background-color:  #f7fbff;\n",
       "            color:  #000000;\n",
       "        }    #T_a2545c82_3c49_11ea_9a24_54bf64129b61row5_col4 {\n",
       "            background-color:  #f7fbff;\n",
       "            color:  #000000;\n",
       "        }    #T_a2545c82_3c49_11ea_9a24_54bf64129b61row5_col5 {\n",
       "            background-color:  #f7fbff;\n",
       "            color:  #000000;\n",
       "        }    #T_a2545c82_3c49_11ea_9a24_54bf64129b61row6_col0 {\n",
       "            background-color:  #eaf3fb;\n",
       "            color:  #000000;\n",
       "        }    #T_a2545c82_3c49_11ea_9a24_54bf64129b61row6_col1 {\n",
       "            background-color:  #e4eff9;\n",
       "            color:  #000000;\n",
       "        }    #T_a2545c82_3c49_11ea_9a24_54bf64129b61row6_col2 {\n",
       "            background-color:  #eef5fc;\n",
       "            color:  #000000;\n",
       "        }    #T_a2545c82_3c49_11ea_9a24_54bf64129b61row6_col3 {\n",
       "            background-color:  #f7fbff;\n",
       "            color:  #000000;\n",
       "        }    #T_a2545c82_3c49_11ea_9a24_54bf64129b61row6_col4 {\n",
       "            background-color:  #f7fbff;\n",
       "            color:  #000000;\n",
       "        }    #T_a2545c82_3c49_11ea_9a24_54bf64129b61row6_col5 {\n",
       "            background-color:  #ecf4fb;\n",
       "            color:  #000000;\n",
       "        }    #T_a2545c82_3c49_11ea_9a24_54bf64129b61row7_col0 {\n",
       "            background-color:  #f5fafe;\n",
       "            color:  #000000;\n",
       "        }    #T_a2545c82_3c49_11ea_9a24_54bf64129b61row7_col1 {\n",
       "            background-color:  #f7fbff;\n",
       "            color:  #000000;\n",
       "        }    #T_a2545c82_3c49_11ea_9a24_54bf64129b61row7_col2 {\n",
       "            background-color:  #f7fbff;\n",
       "            color:  #000000;\n",
       "        }    #T_a2545c82_3c49_11ea_9a24_54bf64129b61row7_col3 {\n",
       "            background-color:  #f7fbff;\n",
       "            color:  #000000;\n",
       "        }    #T_a2545c82_3c49_11ea_9a24_54bf64129b61row7_col4 {\n",
       "            background-color:  #f7fbff;\n",
       "            color:  #000000;\n",
       "        }    #T_a2545c82_3c49_11ea_9a24_54bf64129b61row7_col5 {\n",
       "            background-color:  #f6faff;\n",
       "            color:  #000000;\n",
       "        }    #T_a2545c82_3c49_11ea_9a24_54bf64129b61row8_col0 {\n",
       "            background-color:  #f7fbff;\n",
       "            color:  #000000;\n",
       "        }    #T_a2545c82_3c49_11ea_9a24_54bf64129b61row8_col1 {\n",
       "            background-color:  #f7fbff;\n",
       "            color:  #000000;\n",
       "        }    #T_a2545c82_3c49_11ea_9a24_54bf64129b61row8_col2 {\n",
       "            background-color:  #f7fbff;\n",
       "            color:  #000000;\n",
       "        }    #T_a2545c82_3c49_11ea_9a24_54bf64129b61row8_col3 {\n",
       "            background-color:  #e8f1fa;\n",
       "            color:  #000000;\n",
       "        }    #T_a2545c82_3c49_11ea_9a24_54bf64129b61row8_col4 {\n",
       "            background-color:  #f7fbff;\n",
       "            color:  #000000;\n",
       "        }    #T_a2545c82_3c49_11ea_9a24_54bf64129b61row8_col5 {\n",
       "            background-color:  #f7fbff;\n",
       "            color:  #000000;\n",
       "        }    #T_a2545c82_3c49_11ea_9a24_54bf64129b61row9_col0 {\n",
       "            background-color:  #f1f7fd;\n",
       "            color:  #000000;\n",
       "        }    #T_a2545c82_3c49_11ea_9a24_54bf64129b61row9_col1 {\n",
       "            background-color:  #f7fbff;\n",
       "            color:  #000000;\n",
       "        }    #T_a2545c82_3c49_11ea_9a24_54bf64129b61row9_col2 {\n",
       "            background-color:  #f7fbff;\n",
       "            color:  #000000;\n",
       "        }    #T_a2545c82_3c49_11ea_9a24_54bf64129b61row9_col3 {\n",
       "            background-color:  #d9e7f5;\n",
       "            color:  #000000;\n",
       "        }    #T_a2545c82_3c49_11ea_9a24_54bf64129b61row9_col4 {\n",
       "            background-color:  #abd0e6;\n",
       "            color:  #000000;\n",
       "        }    #T_a2545c82_3c49_11ea_9a24_54bf64129b61row9_col5 {\n",
       "            background-color:  #f1f7fd;\n",
       "            color:  #000000;\n",
       "        }    #T_a2545c82_3c49_11ea_9a24_54bf64129b61row10_col0 {\n",
       "            background-color:  #f2f7fd;\n",
       "            color:  #000000;\n",
       "        }    #T_a2545c82_3c49_11ea_9a24_54bf64129b61row10_col1 {\n",
       "            background-color:  #f7fbff;\n",
       "            color:  #000000;\n",
       "        }    #T_a2545c82_3c49_11ea_9a24_54bf64129b61row10_col2 {\n",
       "            background-color:  #f7fbff;\n",
       "            color:  #000000;\n",
       "        }    #T_a2545c82_3c49_11ea_9a24_54bf64129b61row10_col3 {\n",
       "            background-color:  #e8f1fa;\n",
       "            color:  #000000;\n",
       "        }    #T_a2545c82_3c49_11ea_9a24_54bf64129b61row10_col4 {\n",
       "            background-color:  #f7fbff;\n",
       "            color:  #000000;\n",
       "        }    #T_a2545c82_3c49_11ea_9a24_54bf64129b61row10_col5 {\n",
       "            background-color:  #f3f8fe;\n",
       "            color:  #000000;\n",
       "        }    #T_a2545c82_3c49_11ea_9a24_54bf64129b61row11_col0 {\n",
       "            background-color:  #f1f7fd;\n",
       "            color:  #000000;\n",
       "        }    #T_a2545c82_3c49_11ea_9a24_54bf64129b61row11_col1 {\n",
       "            background-color:  #f7fbff;\n",
       "            color:  #000000;\n",
       "        }    #T_a2545c82_3c49_11ea_9a24_54bf64129b61row11_col2 {\n",
       "            background-color:  #f7fbff;\n",
       "            color:  #000000;\n",
       "        }    #T_a2545c82_3c49_11ea_9a24_54bf64129b61row11_col3 {\n",
       "            background-color:  #e8f1fa;\n",
       "            color:  #000000;\n",
       "        }    #T_a2545c82_3c49_11ea_9a24_54bf64129b61row11_col4 {\n",
       "            background-color:  #f7fbff;\n",
       "            color:  #000000;\n",
       "        }    #T_a2545c82_3c49_11ea_9a24_54bf64129b61row11_col5 {\n",
       "            background-color:  #f2f8fd;\n",
       "            color:  #000000;\n",
       "        }    #T_a2545c82_3c49_11ea_9a24_54bf64129b61row12_col0 {\n",
       "            background-color:  #f7fbff;\n",
       "            color:  #000000;\n",
       "        }    #T_a2545c82_3c49_11ea_9a24_54bf64129b61row12_col1 {\n",
       "            background-color:  #eef5fc;\n",
       "            color:  #000000;\n",
       "        }    #T_a2545c82_3c49_11ea_9a24_54bf64129b61row12_col2 {\n",
       "            background-color:  #f7fbff;\n",
       "            color:  #000000;\n",
       "        }    #T_a2545c82_3c49_11ea_9a24_54bf64129b61row12_col3 {\n",
       "            background-color:  #f7fbff;\n",
       "            color:  #000000;\n",
       "        }    #T_a2545c82_3c49_11ea_9a24_54bf64129b61row12_col4 {\n",
       "            background-color:  #f7fbff;\n",
       "            color:  #000000;\n",
       "        }    #T_a2545c82_3c49_11ea_9a24_54bf64129b61row12_col5 {\n",
       "            background-color:  #f7fbff;\n",
       "            color:  #000000;\n",
       "        }    #T_a2545c82_3c49_11ea_9a24_54bf64129b61row13_col0 {\n",
       "            background-color:  #f4f9fe;\n",
       "            color:  #000000;\n",
       "        }    #T_a2545c82_3c49_11ea_9a24_54bf64129b61row13_col1 {\n",
       "            background-color:  #f7fbff;\n",
       "            color:  #000000;\n",
       "        }    #T_a2545c82_3c49_11ea_9a24_54bf64129b61row13_col2 {\n",
       "            background-color:  #f7fbff;\n",
       "            color:  #000000;\n",
       "        }    #T_a2545c82_3c49_11ea_9a24_54bf64129b61row13_col3 {\n",
       "            background-color:  #f7fbff;\n",
       "            color:  #000000;\n",
       "        }    #T_a2545c82_3c49_11ea_9a24_54bf64129b61row13_col4 {\n",
       "            background-color:  #f7fbff;\n",
       "            color:  #000000;\n",
       "        }    #T_a2545c82_3c49_11ea_9a24_54bf64129b61row13_col5 {\n",
       "            background-color:  #f5fafe;\n",
       "            color:  #000000;\n",
       "        }    #T_a2545c82_3c49_11ea_9a24_54bf64129b61row14_col0 {\n",
       "            background-color:  #f5fafe;\n",
       "            color:  #000000;\n",
       "        }    #T_a2545c82_3c49_11ea_9a24_54bf64129b61row14_col1 {\n",
       "            background-color:  #f7fbff;\n",
       "            color:  #000000;\n",
       "        }    #T_a2545c82_3c49_11ea_9a24_54bf64129b61row14_col2 {\n",
       "            background-color:  #f7fbff;\n",
       "            color:  #000000;\n",
       "        }    #T_a2545c82_3c49_11ea_9a24_54bf64129b61row14_col3 {\n",
       "            background-color:  #f7fbff;\n",
       "            color:  #000000;\n",
       "        }    #T_a2545c82_3c49_11ea_9a24_54bf64129b61row14_col4 {\n",
       "            background-color:  #f7fbff;\n",
       "            color:  #000000;\n",
       "        }    #T_a2545c82_3c49_11ea_9a24_54bf64129b61row14_col5 {\n",
       "            background-color:  #f6faff;\n",
       "            color:  #000000;\n",
       "        }    #T_a2545c82_3c49_11ea_9a24_54bf64129b61row15_col0 {\n",
       "            background-color:  #eaf2fb;\n",
       "            color:  #000000;\n",
       "        }    #T_a2545c82_3c49_11ea_9a24_54bf64129b61row15_col1 {\n",
       "            background-color:  #c9ddf0;\n",
       "            color:  #000000;\n",
       "        }    #T_a2545c82_3c49_11ea_9a24_54bf64129b61row15_col2 {\n",
       "            background-color:  #ddeaf7;\n",
       "            color:  #000000;\n",
       "        }    #T_a2545c82_3c49_11ea_9a24_54bf64129b61row15_col3 {\n",
       "            background-color:  #f7fbff;\n",
       "            color:  #000000;\n",
       "        }    #T_a2545c82_3c49_11ea_9a24_54bf64129b61row15_col4 {\n",
       "            background-color:  #f7fbff;\n",
       "            color:  #000000;\n",
       "        }    #T_a2545c82_3c49_11ea_9a24_54bf64129b61row15_col5 {\n",
       "            background-color:  #e7f0fa;\n",
       "            color:  #000000;\n",
       "        }    #T_a2545c82_3c49_11ea_9a24_54bf64129b61row16_col0 {\n",
       "            background-color:  #08306b;\n",
       "            color:  #f1f1f1;\n",
       "        }    #T_a2545c82_3c49_11ea_9a24_54bf64129b61row16_col1 {\n",
       "            background-color:  #08306b;\n",
       "            color:  #f1f1f1;\n",
       "        }    #T_a2545c82_3c49_11ea_9a24_54bf64129b61row16_col2 {\n",
       "            background-color:  #08306b;\n",
       "            color:  #f1f1f1;\n",
       "        }    #T_a2545c82_3c49_11ea_9a24_54bf64129b61row16_col3 {\n",
       "            background-color:  #08306b;\n",
       "            color:  #f1f1f1;\n",
       "        }    #T_a2545c82_3c49_11ea_9a24_54bf64129b61row16_col4 {\n",
       "            background-color:  #08306b;\n",
       "            color:  #f1f1f1;\n",
       "        }    #T_a2545c82_3c49_11ea_9a24_54bf64129b61row16_col5 {\n",
       "            background-color:  #08306b;\n",
       "            color:  #f1f1f1;\n",
       "        }    #T_a2545c82_3c49_11ea_9a24_54bf64129b61row17_col0 {\n",
       "            background-color:  #f6faff;\n",
       "            color:  #000000;\n",
       "        }    #T_a2545c82_3c49_11ea_9a24_54bf64129b61row17_col1 {\n",
       "            background-color:  #f7fbff;\n",
       "            color:  #000000;\n",
       "        }    #T_a2545c82_3c49_11ea_9a24_54bf64129b61row17_col2 {\n",
       "            background-color:  #f7fbff;\n",
       "            color:  #000000;\n",
       "        }    #T_a2545c82_3c49_11ea_9a24_54bf64129b61row17_col3 {\n",
       "            background-color:  #f7fbff;\n",
       "            color:  #000000;\n",
       "        }    #T_a2545c82_3c49_11ea_9a24_54bf64129b61row17_col4 {\n",
       "            background-color:  #f7fbff;\n",
       "            color:  #000000;\n",
       "        }    #T_a2545c82_3c49_11ea_9a24_54bf64129b61row17_col5 {\n",
       "            background-color:  #f7fbff;\n",
       "            color:  #000000;\n",
       "        }    #T_a2545c82_3c49_11ea_9a24_54bf64129b61row18_col0 {\n",
       "            background-color:  #f7fbff;\n",
       "            color:  #000000;\n",
       "        }    #T_a2545c82_3c49_11ea_9a24_54bf64129b61row18_col1 {\n",
       "            background-color:  #f7fbff;\n",
       "            color:  #000000;\n",
       "        }    #T_a2545c82_3c49_11ea_9a24_54bf64129b61row18_col2 {\n",
       "            background-color:  #f7fbff;\n",
       "            color:  #000000;\n",
       "        }    #T_a2545c82_3c49_11ea_9a24_54bf64129b61row18_col3 {\n",
       "            background-color:  #e8f1fa;\n",
       "            color:  #000000;\n",
       "        }    #T_a2545c82_3c49_11ea_9a24_54bf64129b61row18_col4 {\n",
       "            background-color:  #f7fbff;\n",
       "            color:  #000000;\n",
       "        }    #T_a2545c82_3c49_11ea_9a24_54bf64129b61row18_col5 {\n",
       "            background-color:  #f7fbff;\n",
       "            color:  #000000;\n",
       "        }    #T_a2545c82_3c49_11ea_9a24_54bf64129b61row19_col0 {\n",
       "            background-color:  #f7fbff;\n",
       "            color:  #000000;\n",
       "        }    #T_a2545c82_3c49_11ea_9a24_54bf64129b61row19_col1 {\n",
       "            background-color:  #f7fbff;\n",
       "            color:  #000000;\n",
       "        }    #T_a2545c82_3c49_11ea_9a24_54bf64129b61row19_col2 {\n",
       "            background-color:  #f7fbff;\n",
       "            color:  #000000;\n",
       "        }    #T_a2545c82_3c49_11ea_9a24_54bf64129b61row19_col3 {\n",
       "            background-color:  #e8f1fa;\n",
       "            color:  #000000;\n",
       "        }    #T_a2545c82_3c49_11ea_9a24_54bf64129b61row19_col4 {\n",
       "            background-color:  #3787c0;\n",
       "            color:  #000000;\n",
       "        }    #T_a2545c82_3c49_11ea_9a24_54bf64129b61row19_col5 {\n",
       "            background-color:  #f5fafe;\n",
       "            color:  #000000;\n",
       "        }    #T_a2545c82_3c49_11ea_9a24_54bf64129b61row20_col0 {\n",
       "            background-color:  #e3eef9;\n",
       "            color:  #000000;\n",
       "        }    #T_a2545c82_3c49_11ea_9a24_54bf64129b61row20_col1 {\n",
       "            background-color:  #eef5fc;\n",
       "            color:  #000000;\n",
       "        }    #T_a2545c82_3c49_11ea_9a24_54bf64129b61row20_col2 {\n",
       "            background-color:  #e6f0f9;\n",
       "            color:  #000000;\n",
       "        }    #T_a2545c82_3c49_11ea_9a24_54bf64129b61row20_col3 {\n",
       "            background-color:  #b4d3e9;\n",
       "            color:  #000000;\n",
       "        }    #T_a2545c82_3c49_11ea_9a24_54bf64129b61row20_col4 {\n",
       "            background-color:  #f7fbff;\n",
       "            color:  #000000;\n",
       "        }    #T_a2545c82_3c49_11ea_9a24_54bf64129b61row20_col5 {\n",
       "            background-color:  #e3eef9;\n",
       "            color:  #000000;\n",
       "        }    #T_a2545c82_3c49_11ea_9a24_54bf64129b61row21_col0 {\n",
       "            background-color:  #f1f7fd;\n",
       "            color:  #000000;\n",
       "        }    #T_a2545c82_3c49_11ea_9a24_54bf64129b61row21_col1 {\n",
       "            background-color:  #eef5fc;\n",
       "            color:  #000000;\n",
       "        }    #T_a2545c82_3c49_11ea_9a24_54bf64129b61row21_col2 {\n",
       "            background-color:  #f7fbff;\n",
       "            color:  #000000;\n",
       "        }    #T_a2545c82_3c49_11ea_9a24_54bf64129b61row21_col3 {\n",
       "            background-color:  #f7fbff;\n",
       "            color:  #000000;\n",
       "        }    #T_a2545c82_3c49_11ea_9a24_54bf64129b61row21_col4 {\n",
       "            background-color:  #f7fbff;\n",
       "            color:  #000000;\n",
       "        }    #T_a2545c82_3c49_11ea_9a24_54bf64129b61row21_col5 {\n",
       "            background-color:  #f2f8fd;\n",
       "            color:  #000000;\n",
       "        }    #T_a2545c82_3c49_11ea_9a24_54bf64129b61row22_col0 {\n",
       "            background-color:  #f5fafe;\n",
       "            color:  #000000;\n",
       "        }    #T_a2545c82_3c49_11ea_9a24_54bf64129b61row22_col1 {\n",
       "            background-color:  #eef5fc;\n",
       "            color:  #000000;\n",
       "        }    #T_a2545c82_3c49_11ea_9a24_54bf64129b61row22_col2 {\n",
       "            background-color:  #f7fbff;\n",
       "            color:  #000000;\n",
       "        }    #T_a2545c82_3c49_11ea_9a24_54bf64129b61row22_col3 {\n",
       "            background-color:  #f7fbff;\n",
       "            color:  #000000;\n",
       "        }    #T_a2545c82_3c49_11ea_9a24_54bf64129b61row22_col4 {\n",
       "            background-color:  #f7fbff;\n",
       "            color:  #000000;\n",
       "        }    #T_a2545c82_3c49_11ea_9a24_54bf64129b61row22_col5 {\n",
       "            background-color:  #f5fafe;\n",
       "            color:  #000000;\n",
       "        }    #T_a2545c82_3c49_11ea_9a24_54bf64129b61row23_col0 {\n",
       "            background-color:  #ecf4fb;\n",
       "            color:  #000000;\n",
       "        }    #T_a2545c82_3c49_11ea_9a24_54bf64129b61row23_col1 {\n",
       "            background-color:  #e4eff9;\n",
       "            color:  #000000;\n",
       "        }    #T_a2545c82_3c49_11ea_9a24_54bf64129b61row23_col2 {\n",
       "            background-color:  #f7fbff;\n",
       "            color:  #000000;\n",
       "        }    #T_a2545c82_3c49_11ea_9a24_54bf64129b61row23_col3 {\n",
       "            background-color:  #e8f1fa;\n",
       "            color:  #000000;\n",
       "        }    #T_a2545c82_3c49_11ea_9a24_54bf64129b61row23_col4 {\n",
       "            background-color:  #f7fbff;\n",
       "            color:  #000000;\n",
       "        }    #T_a2545c82_3c49_11ea_9a24_54bf64129b61row23_col5 {\n",
       "            background-color:  #edf4fc;\n",
       "            color:  #000000;\n",
       "        }    #T_a2545c82_3c49_11ea_9a24_54bf64129b61row24_col0 {\n",
       "            background-color:  #f5fafe;\n",
       "            color:  #000000;\n",
       "        }    #T_a2545c82_3c49_11ea_9a24_54bf64129b61row24_col1 {\n",
       "            background-color:  #f7fbff;\n",
       "            color:  #000000;\n",
       "        }    #T_a2545c82_3c49_11ea_9a24_54bf64129b61row24_col2 {\n",
       "            background-color:  #f7fbff;\n",
       "            color:  #000000;\n",
       "        }    #T_a2545c82_3c49_11ea_9a24_54bf64129b61row24_col3 {\n",
       "            background-color:  #f7fbff;\n",
       "            color:  #000000;\n",
       "        }    #T_a2545c82_3c49_11ea_9a24_54bf64129b61row24_col4 {\n",
       "            background-color:  #f7fbff;\n",
       "            color:  #000000;\n",
       "        }    #T_a2545c82_3c49_11ea_9a24_54bf64129b61row24_col5 {\n",
       "            background-color:  #f6faff;\n",
       "            color:  #000000;\n",
       "        }    #T_a2545c82_3c49_11ea_9a24_54bf64129b61row25_col0 {\n",
       "            background-color:  #f7fbff;\n",
       "            color:  #000000;\n",
       "        }    #T_a2545c82_3c49_11ea_9a24_54bf64129b61row25_col1 {\n",
       "            background-color:  #eef5fc;\n",
       "            color:  #000000;\n",
       "        }    #T_a2545c82_3c49_11ea_9a24_54bf64129b61row25_col2 {\n",
       "            background-color:  #f7fbff;\n",
       "            color:  #000000;\n",
       "        }    #T_a2545c82_3c49_11ea_9a24_54bf64129b61row25_col3 {\n",
       "            background-color:  #f7fbff;\n",
       "            color:  #000000;\n",
       "        }    #T_a2545c82_3c49_11ea_9a24_54bf64129b61row25_col4 {\n",
       "            background-color:  #f7fbff;\n",
       "            color:  #000000;\n",
       "        }    #T_a2545c82_3c49_11ea_9a24_54bf64129b61row25_col5 {\n",
       "            background-color:  #f7fbff;\n",
       "            color:  #000000;\n",
       "        }    #T_a2545c82_3c49_11ea_9a24_54bf64129b61row26_col0 {\n",
       "            background-color:  #f6faff;\n",
       "            color:  #000000;\n",
       "        }    #T_a2545c82_3c49_11ea_9a24_54bf64129b61row26_col1 {\n",
       "            background-color:  #f7fbff;\n",
       "            color:  #000000;\n",
       "        }    #T_a2545c82_3c49_11ea_9a24_54bf64129b61row26_col2 {\n",
       "            background-color:  #f7fbff;\n",
       "            color:  #000000;\n",
       "        }    #T_a2545c82_3c49_11ea_9a24_54bf64129b61row26_col3 {\n",
       "            background-color:  #f7fbff;\n",
       "            color:  #000000;\n",
       "        }    #T_a2545c82_3c49_11ea_9a24_54bf64129b61row26_col4 {\n",
       "            background-color:  #f7fbff;\n",
       "            color:  #000000;\n",
       "        }    #T_a2545c82_3c49_11ea_9a24_54bf64129b61row26_col5 {\n",
       "            background-color:  #f7fbff;\n",
       "            color:  #000000;\n",
       "        }    #T_a2545c82_3c49_11ea_9a24_54bf64129b61row27_col0 {\n",
       "            background-color:  #f6faff;\n",
       "            color:  #000000;\n",
       "        }    #T_a2545c82_3c49_11ea_9a24_54bf64129b61row27_col1 {\n",
       "            background-color:  #f7fbff;\n",
       "            color:  #000000;\n",
       "        }    #T_a2545c82_3c49_11ea_9a24_54bf64129b61row27_col2 {\n",
       "            background-color:  #f7fbff;\n",
       "            color:  #000000;\n",
       "        }    #T_a2545c82_3c49_11ea_9a24_54bf64129b61row27_col3 {\n",
       "            background-color:  #f7fbff;\n",
       "            color:  #000000;\n",
       "        }    #T_a2545c82_3c49_11ea_9a24_54bf64129b61row27_col4 {\n",
       "            background-color:  #f7fbff;\n",
       "            color:  #000000;\n",
       "        }    #T_a2545c82_3c49_11ea_9a24_54bf64129b61row27_col5 {\n",
       "            background-color:  #f7fbff;\n",
       "            color:  #000000;\n",
       "        }    #T_a2545c82_3c49_11ea_9a24_54bf64129b61row28_col0 {\n",
       "            background-color:  #f3f8fe;\n",
       "            color:  #000000;\n",
       "        }    #T_a2545c82_3c49_11ea_9a24_54bf64129b61row28_col1 {\n",
       "            background-color:  #f7fbff;\n",
       "            color:  #000000;\n",
       "        }    #T_a2545c82_3c49_11ea_9a24_54bf64129b61row28_col2 {\n",
       "            background-color:  #eef5fc;\n",
       "            color:  #000000;\n",
       "        }    #T_a2545c82_3c49_11ea_9a24_54bf64129b61row28_col3 {\n",
       "            background-color:  #e8f1fa;\n",
       "            color:  #000000;\n",
       "        }    #T_a2545c82_3c49_11ea_9a24_54bf64129b61row28_col4 {\n",
       "            background-color:  #f7fbff;\n",
       "            color:  #000000;\n",
       "        }    #T_a2545c82_3c49_11ea_9a24_54bf64129b61row28_col5 {\n",
       "            background-color:  #f3f8fe;\n",
       "            color:  #000000;\n",
       "        }    #T_a2545c82_3c49_11ea_9a24_54bf64129b61row29_col0 {\n",
       "            background-color:  #f6faff;\n",
       "            color:  #000000;\n",
       "        }    #T_a2545c82_3c49_11ea_9a24_54bf64129b61row29_col1 {\n",
       "            background-color:  #f7fbff;\n",
       "            color:  #000000;\n",
       "        }    #T_a2545c82_3c49_11ea_9a24_54bf64129b61row29_col2 {\n",
       "            background-color:  #f7fbff;\n",
       "            color:  #000000;\n",
       "        }    #T_a2545c82_3c49_11ea_9a24_54bf64129b61row29_col3 {\n",
       "            background-color:  #f7fbff;\n",
       "            color:  #000000;\n",
       "        }    #T_a2545c82_3c49_11ea_9a24_54bf64129b61row29_col4 {\n",
       "            background-color:  #f7fbff;\n",
       "            color:  #000000;\n",
       "        }    #T_a2545c82_3c49_11ea_9a24_54bf64129b61row29_col5 {\n",
       "            background-color:  #f7fbff;\n",
       "            color:  #000000;\n",
       "        }    #T_a2545c82_3c49_11ea_9a24_54bf64129b61row30_col0 {\n",
       "            background-color:  #f2f7fd;\n",
       "            color:  #000000;\n",
       "        }    #T_a2545c82_3c49_11ea_9a24_54bf64129b61row30_col1 {\n",
       "            background-color:  #eef5fc;\n",
       "            color:  #000000;\n",
       "        }    #T_a2545c82_3c49_11ea_9a24_54bf64129b61row30_col2 {\n",
       "            background-color:  #f7fbff;\n",
       "            color:  #000000;\n",
       "        }    #T_a2545c82_3c49_11ea_9a24_54bf64129b61row30_col3 {\n",
       "            background-color:  #e8f1fa;\n",
       "            color:  #000000;\n",
       "        }    #T_a2545c82_3c49_11ea_9a24_54bf64129b61row30_col4 {\n",
       "            background-color:  #abd0e6;\n",
       "            color:  #000000;\n",
       "        }    #T_a2545c82_3c49_11ea_9a24_54bf64129b61row30_col5 {\n",
       "            background-color:  #f2f7fd;\n",
       "            color:  #000000;\n",
       "        }    #T_a2545c82_3c49_11ea_9a24_54bf64129b61row31_col0 {\n",
       "            background-color:  #e5eff9;\n",
       "            color:  #000000;\n",
       "        }    #T_a2545c82_3c49_11ea_9a24_54bf64129b61row31_col1 {\n",
       "            background-color:  #f7fbff;\n",
       "            color:  #000000;\n",
       "        }    #T_a2545c82_3c49_11ea_9a24_54bf64129b61row31_col2 {\n",
       "            background-color:  #f7fbff;\n",
       "            color:  #000000;\n",
       "        }    #T_a2545c82_3c49_11ea_9a24_54bf64129b61row31_col3 {\n",
       "            background-color:  #f7fbff;\n",
       "            color:  #000000;\n",
       "        }    #T_a2545c82_3c49_11ea_9a24_54bf64129b61row31_col4 {\n",
       "            background-color:  #f7fbff;\n",
       "            color:  #000000;\n",
       "        }    #T_a2545c82_3c49_11ea_9a24_54bf64129b61row31_col5 {\n",
       "            background-color:  #eaf3fb;\n",
       "            color:  #000000;\n",
       "        }    #T_a2545c82_3c49_11ea_9a24_54bf64129b61row32_col0 {\n",
       "            background-color:  #f5fafe;\n",
       "            color:  #000000;\n",
       "        }    #T_a2545c82_3c49_11ea_9a24_54bf64129b61row32_col1 {\n",
       "            background-color:  #e4eff9;\n",
       "            color:  #000000;\n",
       "        }    #T_a2545c82_3c49_11ea_9a24_54bf64129b61row32_col2 {\n",
       "            background-color:  #f7fbff;\n",
       "            color:  #000000;\n",
       "        }    #T_a2545c82_3c49_11ea_9a24_54bf64129b61row32_col3 {\n",
       "            background-color:  #d9e7f5;\n",
       "            color:  #000000;\n",
       "        }    #T_a2545c82_3c49_11ea_9a24_54bf64129b61row32_col4 {\n",
       "            background-color:  #abd0e6;\n",
       "            color:  #000000;\n",
       "        }    #T_a2545c82_3c49_11ea_9a24_54bf64129b61row32_col5 {\n",
       "            background-color:  #f2f8fd;\n",
       "            color:  #000000;\n",
       "        }</style><table id=\"T_a2545c82_3c49_11ea_9a24_54bf64129b61\" ><thead>    <tr>        <th class=\"index_name level0\" >Accident Level</th>        <th class=\"col_heading level0 col0\" >I</th>        <th class=\"col_heading level0 col1\" >II</th>        <th class=\"col_heading level0 col2\" >III</th>        <th class=\"col_heading level0 col3\" >IV</th>        <th class=\"col_heading level0 col4\" >V</th>        <th class=\"col_heading level0 col5\" >total</th>    </tr>    <tr>        <th class=\"index_name level0\" >Critical Risk</th>        <th class=\"blank\" ></th>        <th class=\"blank\" ></th>        <th class=\"blank\" ></th>        <th class=\"blank\" ></th>        <th class=\"blank\" ></th>        <th class=\"blank\" ></th>    </tr></thead><tbody>\n",
       "                <tr>\n",
       "                        <th id=\"T_a2545c82_3c49_11ea_9a24_54bf64129b61level0_row0\" class=\"row_heading level0 row0\" >\n",
       "Not applicable</th>\n",
       "                        <td id=\"T_a2545c82_3c49_11ea_9a24_54bf64129b61row0_col0\" class=\"data row0 col0\" >0</td>\n",
       "                        <td id=\"T_a2545c82_3c49_11ea_9a24_54bf64129b61row0_col1\" class=\"data row0 col1\" >0</td>\n",
       "                        <td id=\"T_a2545c82_3c49_11ea_9a24_54bf64129b61row0_col2\" class=\"data row0 col2\" >0</td>\n",
       "                        <td id=\"T_a2545c82_3c49_11ea_9a24_54bf64129b61row0_col3\" class=\"data row0 col3\" >1</td>\n",
       "                        <td id=\"T_a2545c82_3c49_11ea_9a24_54bf64129b61row0_col4\" class=\"data row0 col4\" >0</td>\n",
       "                        <td id=\"T_a2545c82_3c49_11ea_9a24_54bf64129b61row0_col5\" class=\"data row0 col5\" >1</td>\n",
       "            </tr>\n",
       "            <tr>\n",
       "                        <th id=\"T_a2545c82_3c49_11ea_9a24_54bf64129b61level0_row1\" class=\"row_heading level0 row1\" >Bees</th>\n",
       "                        <td id=\"T_a2545c82_3c49_11ea_9a24_54bf64129b61row1_col0\" class=\"data row1 col0\" >10</td>\n",
       "                        <td id=\"T_a2545c82_3c49_11ea_9a24_54bf64129b61row1_col1\" class=\"data row1 col1\" >0</td>\n",
       "                        <td id=\"T_a2545c82_3c49_11ea_9a24_54bf64129b61row1_col2\" class=\"data row1 col2\" >0</td>\n",
       "                        <td id=\"T_a2545c82_3c49_11ea_9a24_54bf64129b61row1_col3\" class=\"data row1 col3\" >0</td>\n",
       "                        <td id=\"T_a2545c82_3c49_11ea_9a24_54bf64129b61row1_col4\" class=\"data row1 col4\" >0</td>\n",
       "                        <td id=\"T_a2545c82_3c49_11ea_9a24_54bf64129b61row1_col5\" class=\"data row1 col5\" >10</td>\n",
       "            </tr>\n",
       "            <tr>\n",
       "                        <th id=\"T_a2545c82_3c49_11ea_9a24_54bf64129b61level0_row2\" class=\"row_heading level0 row2\" >Blocking and isolation of energies</th>\n",
       "                        <td id=\"T_a2545c82_3c49_11ea_9a24_54bf64129b61row2_col0\" class=\"data row2 col0\" >3</td>\n",
       "                        <td id=\"T_a2545c82_3c49_11ea_9a24_54bf64129b61row2_col1\" class=\"data row2 col1\" >0</td>\n",
       "                        <td id=\"T_a2545c82_3c49_11ea_9a24_54bf64129b61row2_col2\" class=\"data row2 col2\" >0</td>\n",
       "                        <td id=\"T_a2545c82_3c49_11ea_9a24_54bf64129b61row2_col3\" class=\"data row2 col3\" >0</td>\n",
       "                        <td id=\"T_a2545c82_3c49_11ea_9a24_54bf64129b61row2_col4\" class=\"data row2 col4\" >0</td>\n",
       "                        <td id=\"T_a2545c82_3c49_11ea_9a24_54bf64129b61row2_col5\" class=\"data row2 col5\" >3</td>\n",
       "            </tr>\n",
       "            <tr>\n",
       "                        <th id=\"T_a2545c82_3c49_11ea_9a24_54bf64129b61level0_row3\" class=\"row_heading level0 row3\" >Burn</th>\n",
       "                        <td id=\"T_a2545c82_3c49_11ea_9a24_54bf64129b61row3_col0\" class=\"data row3 col0\" >0</td>\n",
       "                        <td id=\"T_a2545c82_3c49_11ea_9a24_54bf64129b61row3_col1\" class=\"data row3 col1\" >0</td>\n",
       "                        <td id=\"T_a2545c82_3c49_11ea_9a24_54bf64129b61row3_col2\" class=\"data row3 col2\" >1</td>\n",
       "                        <td id=\"T_a2545c82_3c49_11ea_9a24_54bf64129b61row3_col3\" class=\"data row3 col3\" >0</td>\n",
       "                        <td id=\"T_a2545c82_3c49_11ea_9a24_54bf64129b61row3_col4\" class=\"data row3 col4\" >0</td>\n",
       "                        <td id=\"T_a2545c82_3c49_11ea_9a24_54bf64129b61row3_col5\" class=\"data row3 col5\" >1</td>\n",
       "            </tr>\n",
       "            <tr>\n",
       "                        <th id=\"T_a2545c82_3c49_11ea_9a24_54bf64129b61level0_row4\" class=\"row_heading level0 row4\" >Chemical substances</th>\n",
       "                        <td id=\"T_a2545c82_3c49_11ea_9a24_54bf64129b61row4_col0\" class=\"data row4 col0\" >15</td>\n",
       "                        <td id=\"T_a2545c82_3c49_11ea_9a24_54bf64129b61row4_col1\" class=\"data row4 col1\" >2</td>\n",
       "                        <td id=\"T_a2545c82_3c49_11ea_9a24_54bf64129b61row4_col2\" class=\"data row4 col2\" >0</td>\n",
       "                        <td id=\"T_a2545c82_3c49_11ea_9a24_54bf64129b61row4_col3\" class=\"data row4 col3\" >0</td>\n",
       "                        <td id=\"T_a2545c82_3c49_11ea_9a24_54bf64129b61row4_col4\" class=\"data row4 col4\" >0</td>\n",
       "                        <td id=\"T_a2545c82_3c49_11ea_9a24_54bf64129b61row4_col5\" class=\"data row4 col5\" >17</td>\n",
       "            </tr>\n",
       "            <tr>\n",
       "                        <th id=\"T_a2545c82_3c49_11ea_9a24_54bf64129b61level0_row5\" class=\"row_heading level0 row5\" >Confined space</th>\n",
       "                        <td id=\"T_a2545c82_3c49_11ea_9a24_54bf64129b61row5_col0\" class=\"data row5 col0\" >1</td>\n",
       "                        <td id=\"T_a2545c82_3c49_11ea_9a24_54bf64129b61row5_col1\" class=\"data row5 col1\" >0</td>\n",
       "                        <td id=\"T_a2545c82_3c49_11ea_9a24_54bf64129b61row5_col2\" class=\"data row5 col2\" >0</td>\n",
       "                        <td id=\"T_a2545c82_3c49_11ea_9a24_54bf64129b61row5_col3\" class=\"data row5 col3\" >0</td>\n",
       "                        <td id=\"T_a2545c82_3c49_11ea_9a24_54bf64129b61row5_col4\" class=\"data row5 col4\" >0</td>\n",
       "                        <td id=\"T_a2545c82_3c49_11ea_9a24_54bf64129b61row5_col5\" class=\"data row5 col5\" >1</td>\n",
       "            </tr>\n",
       "            <tr>\n",
       "                        <th id=\"T_a2545c82_3c49_11ea_9a24_54bf64129b61level0_row6\" class=\"row_heading level0 row6\" >Cut</th>\n",
       "                        <td id=\"T_a2545c82_3c49_11ea_9a24_54bf64129b61row6_col0\" class=\"data row6 col0\" >11</td>\n",
       "                        <td id=\"T_a2545c82_3c49_11ea_9a24_54bf64129b61row6_col1\" class=\"data row6 col1\" >2</td>\n",
       "                        <td id=\"T_a2545c82_3c49_11ea_9a24_54bf64129b61row6_col2\" class=\"data row6 col2\" >1</td>\n",
       "                        <td id=\"T_a2545c82_3c49_11ea_9a24_54bf64129b61row6_col3\" class=\"data row6 col3\" >0</td>\n",
       "                        <td id=\"T_a2545c82_3c49_11ea_9a24_54bf64129b61row6_col4\" class=\"data row6 col4\" >0</td>\n",
       "                        <td id=\"T_a2545c82_3c49_11ea_9a24_54bf64129b61row6_col5\" class=\"data row6 col5\" >14</td>\n",
       "            </tr>\n",
       "            <tr>\n",
       "                        <th id=\"T_a2545c82_3c49_11ea_9a24_54bf64129b61level0_row7\" class=\"row_heading level0 row7\" >Electrical Shock</th>\n",
       "                        <td id=\"T_a2545c82_3c49_11ea_9a24_54bf64129b61row7_col0\" class=\"data row7 col0\" >2</td>\n",
       "                        <td id=\"T_a2545c82_3c49_11ea_9a24_54bf64129b61row7_col1\" class=\"data row7 col1\" >0</td>\n",
       "                        <td id=\"T_a2545c82_3c49_11ea_9a24_54bf64129b61row7_col2\" class=\"data row7 col2\" >0</td>\n",
       "                        <td id=\"T_a2545c82_3c49_11ea_9a24_54bf64129b61row7_col3\" class=\"data row7 col3\" >0</td>\n",
       "                        <td id=\"T_a2545c82_3c49_11ea_9a24_54bf64129b61row7_col4\" class=\"data row7 col4\" >0</td>\n",
       "                        <td id=\"T_a2545c82_3c49_11ea_9a24_54bf64129b61row7_col5\" class=\"data row7 col5\" >2</td>\n",
       "            </tr>\n",
       "            <tr>\n",
       "                        <th id=\"T_a2545c82_3c49_11ea_9a24_54bf64129b61level0_row8\" class=\"row_heading level0 row8\" >Electrical installation</th>\n",
       "                        <td id=\"T_a2545c82_3c49_11ea_9a24_54bf64129b61row8_col0\" class=\"data row8 col0\" >0</td>\n",
       "                        <td id=\"T_a2545c82_3c49_11ea_9a24_54bf64129b61row8_col1\" class=\"data row8 col1\" >0</td>\n",
       "                        <td id=\"T_a2545c82_3c49_11ea_9a24_54bf64129b61row8_col2\" class=\"data row8 col2\" >0</td>\n",
       "                        <td id=\"T_a2545c82_3c49_11ea_9a24_54bf64129b61row8_col3\" class=\"data row8 col3\" >1</td>\n",
       "                        <td id=\"T_a2545c82_3c49_11ea_9a24_54bf64129b61row8_col4\" class=\"data row8 col4\" >0</td>\n",
       "                        <td id=\"T_a2545c82_3c49_11ea_9a24_54bf64129b61row8_col5\" class=\"data row8 col5\" >1</td>\n",
       "            </tr>\n",
       "            <tr>\n",
       "                        <th id=\"T_a2545c82_3c49_11ea_9a24_54bf64129b61level0_row9\" class=\"row_heading level0 row9\" >Fall</th>\n",
       "                        <td id=\"T_a2545c82_3c49_11ea_9a24_54bf64129b61row9_col0\" class=\"data row9 col0\" >6</td>\n",
       "                        <td id=\"T_a2545c82_3c49_11ea_9a24_54bf64129b61row9_col1\" class=\"data row9 col1\" >0</td>\n",
       "                        <td id=\"T_a2545c82_3c49_11ea_9a24_54bf64129b61row9_col2\" class=\"data row9 col2\" >0</td>\n",
       "                        <td id=\"T_a2545c82_3c49_11ea_9a24_54bf64129b61row9_col3\" class=\"data row9 col3\" >2</td>\n",
       "                        <td id=\"T_a2545c82_3c49_11ea_9a24_54bf64129b61row9_col4\" class=\"data row9 col4\" >1</td>\n",
       "                        <td id=\"T_a2545c82_3c49_11ea_9a24_54bf64129b61row9_col5\" class=\"data row9 col5\" >9</td>\n",
       "            </tr>\n",
       "            <tr>\n",
       "                        <th id=\"T_a2545c82_3c49_11ea_9a24_54bf64129b61level0_row10\" class=\"row_heading level0 row10\" >Fall prevention</th>\n",
       "                        <td id=\"T_a2545c82_3c49_11ea_9a24_54bf64129b61row10_col0\" class=\"data row10 col0\" >5</td>\n",
       "                        <td id=\"T_a2545c82_3c49_11ea_9a24_54bf64129b61row10_col1\" class=\"data row10 col1\" >0</td>\n",
       "                        <td id=\"T_a2545c82_3c49_11ea_9a24_54bf64129b61row10_col2\" class=\"data row10 col2\" >0</td>\n",
       "                        <td id=\"T_a2545c82_3c49_11ea_9a24_54bf64129b61row10_col3\" class=\"data row10 col3\" >1</td>\n",
       "                        <td id=\"T_a2545c82_3c49_11ea_9a24_54bf64129b61row10_col4\" class=\"data row10 col4\" >0</td>\n",
       "                        <td id=\"T_a2545c82_3c49_11ea_9a24_54bf64129b61row10_col5\" class=\"data row10 col5\" >6</td>\n",
       "            </tr>\n",
       "            <tr>\n",
       "                        <th id=\"T_a2545c82_3c49_11ea_9a24_54bf64129b61level0_row11\" class=\"row_heading level0 row11\" >Fall prevention (same level)</th>\n",
       "                        <td id=\"T_a2545c82_3c49_11ea_9a24_54bf64129b61row11_col0\" class=\"data row11 col0\" >6</td>\n",
       "                        <td id=\"T_a2545c82_3c49_11ea_9a24_54bf64129b61row11_col1\" class=\"data row11 col1\" >0</td>\n",
       "                        <td id=\"T_a2545c82_3c49_11ea_9a24_54bf64129b61row11_col2\" class=\"data row11 col2\" >0</td>\n",
       "                        <td id=\"T_a2545c82_3c49_11ea_9a24_54bf64129b61row11_col3\" class=\"data row11 col3\" >1</td>\n",
       "                        <td id=\"T_a2545c82_3c49_11ea_9a24_54bf64129b61row11_col4\" class=\"data row11 col4\" >0</td>\n",
       "                        <td id=\"T_a2545c82_3c49_11ea_9a24_54bf64129b61row11_col5\" class=\"data row11 col5\" >7</td>\n",
       "            </tr>\n",
       "            <tr>\n",
       "                        <th id=\"T_a2545c82_3c49_11ea_9a24_54bf64129b61level0_row12\" class=\"row_heading level0 row12\" >Individual protection equipment</th>\n",
       "                        <td id=\"T_a2545c82_3c49_11ea_9a24_54bf64129b61row12_col0\" class=\"data row12 col0\" >0</td>\n",
       "                        <td id=\"T_a2545c82_3c49_11ea_9a24_54bf64129b61row12_col1\" class=\"data row12 col1\" >1</td>\n",
       "                        <td id=\"T_a2545c82_3c49_11ea_9a24_54bf64129b61row12_col2\" class=\"data row12 col2\" >0</td>\n",
       "                        <td id=\"T_a2545c82_3c49_11ea_9a24_54bf64129b61row12_col3\" class=\"data row12 col3\" >0</td>\n",
       "                        <td id=\"T_a2545c82_3c49_11ea_9a24_54bf64129b61row12_col4\" class=\"data row12 col4\" >0</td>\n",
       "                        <td id=\"T_a2545c82_3c49_11ea_9a24_54bf64129b61row12_col5\" class=\"data row12 col5\" >1</td>\n",
       "            </tr>\n",
       "            <tr>\n",
       "                        <th id=\"T_a2545c82_3c49_11ea_9a24_54bf64129b61level0_row13\" class=\"row_heading level0 row13\" >Liquid Metal</th>\n",
       "                        <td id=\"T_a2545c82_3c49_11ea_9a24_54bf64129b61row13_col0\" class=\"data row13 col0\" >3</td>\n",
       "                        <td id=\"T_a2545c82_3c49_11ea_9a24_54bf64129b61row13_col1\" class=\"data row13 col1\" >0</td>\n",
       "                        <td id=\"T_a2545c82_3c49_11ea_9a24_54bf64129b61row13_col2\" class=\"data row13 col2\" >0</td>\n",
       "                        <td id=\"T_a2545c82_3c49_11ea_9a24_54bf64129b61row13_col3\" class=\"data row13 col3\" >0</td>\n",
       "                        <td id=\"T_a2545c82_3c49_11ea_9a24_54bf64129b61row13_col4\" class=\"data row13 col4\" >0</td>\n",
       "                        <td id=\"T_a2545c82_3c49_11ea_9a24_54bf64129b61row13_col5\" class=\"data row13 col5\" >3</td>\n",
       "            </tr>\n",
       "            <tr>\n",
       "                        <th id=\"T_a2545c82_3c49_11ea_9a24_54bf64129b61level0_row14\" class=\"row_heading level0 row14\" >Machine Protection</th>\n",
       "                        <td id=\"T_a2545c82_3c49_11ea_9a24_54bf64129b61row14_col0\" class=\"data row14 col0\" >2</td>\n",
       "                        <td id=\"T_a2545c82_3c49_11ea_9a24_54bf64129b61row14_col1\" class=\"data row14 col1\" >0</td>\n",
       "                        <td id=\"T_a2545c82_3c49_11ea_9a24_54bf64129b61row14_col2\" class=\"data row14 col2\" >0</td>\n",
       "                        <td id=\"T_a2545c82_3c49_11ea_9a24_54bf64129b61row14_col3\" class=\"data row14 col3\" >0</td>\n",
       "                        <td id=\"T_a2545c82_3c49_11ea_9a24_54bf64129b61row14_col4\" class=\"data row14 col4\" >0</td>\n",
       "                        <td id=\"T_a2545c82_3c49_11ea_9a24_54bf64129b61row14_col5\" class=\"data row14 col5\" >2</td>\n",
       "            </tr>\n",
       "            <tr>\n",
       "                        <th id=\"T_a2545c82_3c49_11ea_9a24_54bf64129b61level0_row15\" class=\"row_heading level0 row15\" >Manual Tools</th>\n",
       "                        <td id=\"T_a2545c82_3c49_11ea_9a24_54bf64129b61row15_col0\" class=\"data row15 col0\" >12</td>\n",
       "                        <td id=\"T_a2545c82_3c49_11ea_9a24_54bf64129b61row15_col1\" class=\"data row15 col1\" >5</td>\n",
       "                        <td id=\"T_a2545c82_3c49_11ea_9a24_54bf64129b61row15_col2\" class=\"data row15 col2\" >3</td>\n",
       "                        <td id=\"T_a2545c82_3c49_11ea_9a24_54bf64129b61row15_col3\" class=\"data row15 col3\" >0</td>\n",
       "                        <td id=\"T_a2545c82_3c49_11ea_9a24_54bf64129b61row15_col4\" class=\"data row15 col4\" >0</td>\n",
       "                        <td id=\"T_a2545c82_3c49_11ea_9a24_54bf64129b61row15_col5\" class=\"data row15 col5\" >20</td>\n",
       "            </tr>\n",
       "            <tr>\n",
       "                        <th id=\"T_a2545c82_3c49_11ea_9a24_54bf64129b61level0_row16\" class=\"row_heading level0 row16\" >Others</th>\n",
       "                        <td id=\"T_a2545c82_3c49_11ea_9a24_54bf64129b61row16_col0\" class=\"data row16 col0\" >172</td>\n",
       "                        <td id=\"T_a2545c82_3c49_11ea_9a24_54bf64129b61row16_col1\" class=\"data row16 col1\" >21</td>\n",
       "                        <td id=\"T_a2545c82_3c49_11ea_9a24_54bf64129b61row16_col2\" class=\"data row16 col2\" >23</td>\n",
       "                        <td id=\"T_a2545c82_3c49_11ea_9a24_54bf64129b61row16_col3\" class=\"data row16 col3\" >13</td>\n",
       "                        <td id=\"T_a2545c82_3c49_11ea_9a24_54bf64129b61row16_col4\" class=\"data row16 col4\" >3</td>\n",
       "                        <td id=\"T_a2545c82_3c49_11ea_9a24_54bf64129b61row16_col5\" class=\"data row16 col5\" >232</td>\n",
       "            </tr>\n",
       "            <tr>\n",
       "                        <th id=\"T_a2545c82_3c49_11ea_9a24_54bf64129b61level0_row17\" class=\"row_heading level0 row17\" >Plates</th>\n",
       "                        <td id=\"T_a2545c82_3c49_11ea_9a24_54bf64129b61row17_col0\" class=\"data row17 col0\" >1</td>\n",
       "                        <td id=\"T_a2545c82_3c49_11ea_9a24_54bf64129b61row17_col1\" class=\"data row17 col1\" >0</td>\n",
       "                        <td id=\"T_a2545c82_3c49_11ea_9a24_54bf64129b61row17_col2\" class=\"data row17 col2\" >0</td>\n",
       "                        <td id=\"T_a2545c82_3c49_11ea_9a24_54bf64129b61row17_col3\" class=\"data row17 col3\" >0</td>\n",
       "                        <td id=\"T_a2545c82_3c49_11ea_9a24_54bf64129b61row17_col4\" class=\"data row17 col4\" >0</td>\n",
       "                        <td id=\"T_a2545c82_3c49_11ea_9a24_54bf64129b61row17_col5\" class=\"data row17 col5\" >1</td>\n",
       "            </tr>\n",
       "            <tr>\n",
       "                        <th id=\"T_a2545c82_3c49_11ea_9a24_54bf64129b61level0_row18\" class=\"row_heading level0 row18\" >Poll</th>\n",
       "                        <td id=\"T_a2545c82_3c49_11ea_9a24_54bf64129b61row18_col0\" class=\"data row18 col0\" >0</td>\n",
       "                        <td id=\"T_a2545c82_3c49_11ea_9a24_54bf64129b61row18_col1\" class=\"data row18 col1\" >0</td>\n",
       "                        <td id=\"T_a2545c82_3c49_11ea_9a24_54bf64129b61row18_col2\" class=\"data row18 col2\" >0</td>\n",
       "                        <td id=\"T_a2545c82_3c49_11ea_9a24_54bf64129b61row18_col3\" class=\"data row18 col3\" >1</td>\n",
       "                        <td id=\"T_a2545c82_3c49_11ea_9a24_54bf64129b61row18_col4\" class=\"data row18 col4\" >0</td>\n",
       "                        <td id=\"T_a2545c82_3c49_11ea_9a24_54bf64129b61row18_col5\" class=\"data row18 col5\" >1</td>\n",
       "            </tr>\n",
       "            <tr>\n",
       "                        <th id=\"T_a2545c82_3c49_11ea_9a24_54bf64129b61level0_row19\" class=\"row_heading level0 row19\" >Power lock</th>\n",
       "                        <td id=\"T_a2545c82_3c49_11ea_9a24_54bf64129b61row19_col0\" class=\"data row19 col0\" >0</td>\n",
       "                        <td id=\"T_a2545c82_3c49_11ea_9a24_54bf64129b61row19_col1\" class=\"data row19 col1\" >0</td>\n",
       "                        <td id=\"T_a2545c82_3c49_11ea_9a24_54bf64129b61row19_col2\" class=\"data row19 col2\" >0</td>\n",
       "                        <td id=\"T_a2545c82_3c49_11ea_9a24_54bf64129b61row19_col3\" class=\"data row19 col3\" >1</td>\n",
       "                        <td id=\"T_a2545c82_3c49_11ea_9a24_54bf64129b61row19_col4\" class=\"data row19 col4\" >2</td>\n",
       "                        <td id=\"T_a2545c82_3c49_11ea_9a24_54bf64129b61row19_col5\" class=\"data row19 col5\" >3</td>\n",
       "            </tr>\n",
       "            <tr>\n",
       "                        <th id=\"T_a2545c82_3c49_11ea_9a24_54bf64129b61level0_row20\" class=\"row_heading level0 row20\" >Pressed</th>\n",
       "                        <td id=\"T_a2545c82_3c49_11ea_9a24_54bf64129b61row20_col0\" class=\"data row20 col0\" >17</td>\n",
       "                        <td id=\"T_a2545c82_3c49_11ea_9a24_54bf64129b61row20_col1\" class=\"data row20 col1\" >1</td>\n",
       "                        <td id=\"T_a2545c82_3c49_11ea_9a24_54bf64129b61row20_col2\" class=\"data row20 col2\" >2</td>\n",
       "                        <td id=\"T_a2545c82_3c49_11ea_9a24_54bf64129b61row20_col3\" class=\"data row20 col3\" >4</td>\n",
       "                        <td id=\"T_a2545c82_3c49_11ea_9a24_54bf64129b61row20_col4\" class=\"data row20 col4\" >0</td>\n",
       "                        <td id=\"T_a2545c82_3c49_11ea_9a24_54bf64129b61row20_col5\" class=\"data row20 col5\" >24</td>\n",
       "            </tr>\n",
       "            <tr>\n",
       "                        <th id=\"T_a2545c82_3c49_11ea_9a24_54bf64129b61level0_row21\" class=\"row_heading level0 row21\" >Pressurized Systems</th>\n",
       "                        <td id=\"T_a2545c82_3c49_11ea_9a24_54bf64129b61row21_col0\" class=\"data row21 col0\" >6</td>\n",
       "                        <td id=\"T_a2545c82_3c49_11ea_9a24_54bf64129b61row21_col1\" class=\"data row21 col1\" >1</td>\n",
       "                        <td id=\"T_a2545c82_3c49_11ea_9a24_54bf64129b61row21_col2\" class=\"data row21 col2\" >0</td>\n",
       "                        <td id=\"T_a2545c82_3c49_11ea_9a24_54bf64129b61row21_col3\" class=\"data row21 col3\" >0</td>\n",
       "                        <td id=\"T_a2545c82_3c49_11ea_9a24_54bf64129b61row21_col4\" class=\"data row21 col4\" >0</td>\n",
       "                        <td id=\"T_a2545c82_3c49_11ea_9a24_54bf64129b61row21_col5\" class=\"data row21 col5\" >7</td>\n",
       "            </tr>\n",
       "            <tr>\n",
       "                        <th id=\"T_a2545c82_3c49_11ea_9a24_54bf64129b61level0_row22\" class=\"row_heading level0 row22\" >Pressurized Systems / Chemical Substances</th>\n",
       "                        <td id=\"T_a2545c82_3c49_11ea_9a24_54bf64129b61row22_col0\" class=\"data row22 col0\" >2</td>\n",
       "                        <td id=\"T_a2545c82_3c49_11ea_9a24_54bf64129b61row22_col1\" class=\"data row22 col1\" >1</td>\n",
       "                        <td id=\"T_a2545c82_3c49_11ea_9a24_54bf64129b61row22_col2\" class=\"data row22 col2\" >0</td>\n",
       "                        <td id=\"T_a2545c82_3c49_11ea_9a24_54bf64129b61row22_col3\" class=\"data row22 col3\" >0</td>\n",
       "                        <td id=\"T_a2545c82_3c49_11ea_9a24_54bf64129b61row22_col4\" class=\"data row22 col4\" >0</td>\n",
       "                        <td id=\"T_a2545c82_3c49_11ea_9a24_54bf64129b61row22_col5\" class=\"data row22 col5\" >3</td>\n",
       "            </tr>\n",
       "            <tr>\n",
       "                        <th id=\"T_a2545c82_3c49_11ea_9a24_54bf64129b61level0_row23\" class=\"row_heading level0 row23\" >Projection</th>\n",
       "                        <td id=\"T_a2545c82_3c49_11ea_9a24_54bf64129b61row23_col0\" class=\"data row23 col0\" >10</td>\n",
       "                        <td id=\"T_a2545c82_3c49_11ea_9a24_54bf64129b61row23_col1\" class=\"data row23 col1\" >2</td>\n",
       "                        <td id=\"T_a2545c82_3c49_11ea_9a24_54bf64129b61row23_col2\" class=\"data row23 col2\" >0</td>\n",
       "                        <td id=\"T_a2545c82_3c49_11ea_9a24_54bf64129b61row23_col3\" class=\"data row23 col3\" >1</td>\n",
       "                        <td id=\"T_a2545c82_3c49_11ea_9a24_54bf64129b61row23_col4\" class=\"data row23 col4\" >0</td>\n",
       "                        <td id=\"T_a2545c82_3c49_11ea_9a24_54bf64129b61row23_col5\" class=\"data row23 col5\" >13</td>\n",
       "            </tr>\n",
       "            <tr>\n",
       "                        <th id=\"T_a2545c82_3c49_11ea_9a24_54bf64129b61level0_row24\" class=\"row_heading level0 row24\" >Projection of fragments</th>\n",
       "                        <td id=\"T_a2545c82_3c49_11ea_9a24_54bf64129b61row24_col0\" class=\"data row24 col0\" >2</td>\n",
       "                        <td id=\"T_a2545c82_3c49_11ea_9a24_54bf64129b61row24_col1\" class=\"data row24 col1\" >0</td>\n",
       "                        <td id=\"T_a2545c82_3c49_11ea_9a24_54bf64129b61row24_col2\" class=\"data row24 col2\" >0</td>\n",
       "                        <td id=\"T_a2545c82_3c49_11ea_9a24_54bf64129b61row24_col3\" class=\"data row24 col3\" >0</td>\n",
       "                        <td id=\"T_a2545c82_3c49_11ea_9a24_54bf64129b61row24_col4\" class=\"data row24 col4\" >0</td>\n",
       "                        <td id=\"T_a2545c82_3c49_11ea_9a24_54bf64129b61row24_col5\" class=\"data row24 col5\" >2</td>\n",
       "            </tr>\n",
       "            <tr>\n",
       "                        <th id=\"T_a2545c82_3c49_11ea_9a24_54bf64129b61level0_row25\" class=\"row_heading level0 row25\" >Projection/Burning</th>\n",
       "                        <td id=\"T_a2545c82_3c49_11ea_9a24_54bf64129b61row25_col0\" class=\"data row25 col0\" >0</td>\n",
       "                        <td id=\"T_a2545c82_3c49_11ea_9a24_54bf64129b61row25_col1\" class=\"data row25 col1\" >1</td>\n",
       "                        <td id=\"T_a2545c82_3c49_11ea_9a24_54bf64129b61row25_col2\" class=\"data row25 col2\" >0</td>\n",
       "                        <td id=\"T_a2545c82_3c49_11ea_9a24_54bf64129b61row25_col3\" class=\"data row25 col3\" >0</td>\n",
       "                        <td id=\"T_a2545c82_3c49_11ea_9a24_54bf64129b61row25_col4\" class=\"data row25 col4\" >0</td>\n",
       "                        <td id=\"T_a2545c82_3c49_11ea_9a24_54bf64129b61row25_col5\" class=\"data row25 col5\" >1</td>\n",
       "            </tr>\n",
       "            <tr>\n",
       "                        <th id=\"T_a2545c82_3c49_11ea_9a24_54bf64129b61level0_row26\" class=\"row_heading level0 row26\" >Projection/Choco</th>\n",
       "                        <td id=\"T_a2545c82_3c49_11ea_9a24_54bf64129b61row26_col0\" class=\"data row26 col0\" >1</td>\n",
       "                        <td id=\"T_a2545c82_3c49_11ea_9a24_54bf64129b61row26_col1\" class=\"data row26 col1\" >0</td>\n",
       "                        <td id=\"T_a2545c82_3c49_11ea_9a24_54bf64129b61row26_col2\" class=\"data row26 col2\" >0</td>\n",
       "                        <td id=\"T_a2545c82_3c49_11ea_9a24_54bf64129b61row26_col3\" class=\"data row26 col3\" >0</td>\n",
       "                        <td id=\"T_a2545c82_3c49_11ea_9a24_54bf64129b61row26_col4\" class=\"data row26 col4\" >0</td>\n",
       "                        <td id=\"T_a2545c82_3c49_11ea_9a24_54bf64129b61row26_col5\" class=\"data row26 col5\" >1</td>\n",
       "            </tr>\n",
       "            <tr>\n",
       "                        <th id=\"T_a2545c82_3c49_11ea_9a24_54bf64129b61level0_row27\" class=\"row_heading level0 row27\" >Projection/Manual Tools</th>\n",
       "                        <td id=\"T_a2545c82_3c49_11ea_9a24_54bf64129b61row27_col0\" class=\"data row27 col0\" >1</td>\n",
       "                        <td id=\"T_a2545c82_3c49_11ea_9a24_54bf64129b61row27_col1\" class=\"data row27 col1\" >0</td>\n",
       "                        <td id=\"T_a2545c82_3c49_11ea_9a24_54bf64129b61row27_col2\" class=\"data row27 col2\" >0</td>\n",
       "                        <td id=\"T_a2545c82_3c49_11ea_9a24_54bf64129b61row27_col3\" class=\"data row27 col3\" >0</td>\n",
       "                        <td id=\"T_a2545c82_3c49_11ea_9a24_54bf64129b61row27_col4\" class=\"data row27 col4\" >0</td>\n",
       "                        <td id=\"T_a2545c82_3c49_11ea_9a24_54bf64129b61row27_col5\" class=\"data row27 col5\" >1</td>\n",
       "            </tr>\n",
       "            <tr>\n",
       "                        <th id=\"T_a2545c82_3c49_11ea_9a24_54bf64129b61level0_row28\" class=\"row_heading level0 row28\" >Suspended Loads</th>\n",
       "                        <td id=\"T_a2545c82_3c49_11ea_9a24_54bf64129b61row28_col0\" class=\"data row28 col0\" >4</td>\n",
       "                        <td id=\"T_a2545c82_3c49_11ea_9a24_54bf64129b61row28_col1\" class=\"data row28 col1\" >0</td>\n",
       "                        <td id=\"T_a2545c82_3c49_11ea_9a24_54bf64129b61row28_col2\" class=\"data row28 col2\" >1</td>\n",
       "                        <td id=\"T_a2545c82_3c49_11ea_9a24_54bf64129b61row28_col3\" class=\"data row28 col3\" >1</td>\n",
       "                        <td id=\"T_a2545c82_3c49_11ea_9a24_54bf64129b61row28_col4\" class=\"data row28 col4\" >0</td>\n",
       "                        <td id=\"T_a2545c82_3c49_11ea_9a24_54bf64129b61row28_col5\" class=\"data row28 col5\" >6</td>\n",
       "            </tr>\n",
       "            <tr>\n",
       "                        <th id=\"T_a2545c82_3c49_11ea_9a24_54bf64129b61level0_row29\" class=\"row_heading level0 row29\" >Traffic</th>\n",
       "                        <td id=\"T_a2545c82_3c49_11ea_9a24_54bf64129b61row29_col0\" class=\"data row29 col0\" >1</td>\n",
       "                        <td id=\"T_a2545c82_3c49_11ea_9a24_54bf64129b61row29_col1\" class=\"data row29 col1\" >0</td>\n",
       "                        <td id=\"T_a2545c82_3c49_11ea_9a24_54bf64129b61row29_col2\" class=\"data row29 col2\" >0</td>\n",
       "                        <td id=\"T_a2545c82_3c49_11ea_9a24_54bf64129b61row29_col3\" class=\"data row29 col3\" >0</td>\n",
       "                        <td id=\"T_a2545c82_3c49_11ea_9a24_54bf64129b61row29_col4\" class=\"data row29 col4\" >0</td>\n",
       "                        <td id=\"T_a2545c82_3c49_11ea_9a24_54bf64129b61row29_col5\" class=\"data row29 col5\" >1</td>\n",
       "            </tr>\n",
       "            <tr>\n",
       "                        <th id=\"T_a2545c82_3c49_11ea_9a24_54bf64129b61level0_row30\" class=\"row_heading level0 row30\" >Vehicles and Mobile Equipment</th>\n",
       "                        <td id=\"T_a2545c82_3c49_11ea_9a24_54bf64129b61row30_col0\" class=\"data row30 col0\" >5</td>\n",
       "                        <td id=\"T_a2545c82_3c49_11ea_9a24_54bf64129b61row30_col1\" class=\"data row30 col1\" >1</td>\n",
       "                        <td id=\"T_a2545c82_3c49_11ea_9a24_54bf64129b61row30_col2\" class=\"data row30 col2\" >0</td>\n",
       "                        <td id=\"T_a2545c82_3c49_11ea_9a24_54bf64129b61row30_col3\" class=\"data row30 col3\" >1</td>\n",
       "                        <td id=\"T_a2545c82_3c49_11ea_9a24_54bf64129b61row30_col4\" class=\"data row30 col4\" >1</td>\n",
       "                        <td id=\"T_a2545c82_3c49_11ea_9a24_54bf64129b61row30_col5\" class=\"data row30 col5\" >8</td>\n",
       "            </tr>\n",
       "            <tr>\n",
       "                        <th id=\"T_a2545c82_3c49_11ea_9a24_54bf64129b61level0_row31\" class=\"row_heading level0 row31\" >Venomous Animals</th>\n",
       "                        <td id=\"T_a2545c82_3c49_11ea_9a24_54bf64129b61row31_col0\" class=\"data row31 col0\" >16</td>\n",
       "                        <td id=\"T_a2545c82_3c49_11ea_9a24_54bf64129b61row31_col1\" class=\"data row31 col1\" >0</td>\n",
       "                        <td id=\"T_a2545c82_3c49_11ea_9a24_54bf64129b61row31_col2\" class=\"data row31 col2\" >0</td>\n",
       "                        <td id=\"T_a2545c82_3c49_11ea_9a24_54bf64129b61row31_col3\" class=\"data row31 col3\" >0</td>\n",
       "                        <td id=\"T_a2545c82_3c49_11ea_9a24_54bf64129b61row31_col4\" class=\"data row31 col4\" >0</td>\n",
       "                        <td id=\"T_a2545c82_3c49_11ea_9a24_54bf64129b61row31_col5\" class=\"data row31 col5\" >16</td>\n",
       "            </tr>\n",
       "            <tr>\n",
       "                        <th id=\"T_a2545c82_3c49_11ea_9a24_54bf64129b61level0_row32\" class=\"row_heading level0 row32\" >remains of choco</th>\n",
       "                        <td id=\"T_a2545c82_3c49_11ea_9a24_54bf64129b61row32_col0\" class=\"data row32 col0\" >2</td>\n",
       "                        <td id=\"T_a2545c82_3c49_11ea_9a24_54bf64129b61row32_col1\" class=\"data row32 col1\" >2</td>\n",
       "                        <td id=\"T_a2545c82_3c49_11ea_9a24_54bf64129b61row32_col2\" class=\"data row32 col2\" >0</td>\n",
       "                        <td id=\"T_a2545c82_3c49_11ea_9a24_54bf64129b61row32_col3\" class=\"data row32 col3\" >2</td>\n",
       "                        <td id=\"T_a2545c82_3c49_11ea_9a24_54bf64129b61row32_col4\" class=\"data row32 col4\" >1</td>\n",
       "                        <td id=\"T_a2545c82_3c49_11ea_9a24_54bf64129b61row32_col5\" class=\"data row32 col5\" >7</td>\n",
       "            </tr>\n",
       "    </tbody></table>"
      ],
      "text/plain": [
       "<pandas.io.formats.style.Styler at 0x156a1a97708>"
      ]
     },
     "execution_count": 49,
     "metadata": {},
     "output_type": "execute_result"
    }
   ],
   "source": [
    "dset_cr.style.background_gradient(cmap='Blues')"
   ]
  },
  {
   "cell_type": "code",
   "execution_count": 50,
   "metadata": {
    "_uuid": "d2ef79316020f5a8be2756d04e6557d170f8345b"
   },
   "outputs": [],
   "source": [
    "dset_cr.drop('Others', axis=0, inplace=True)"
   ]
  },
  {
   "cell_type": "code",
   "execution_count": 51,
   "metadata": {
    "_uuid": "112c7a39d957f58b155329bdd31229858d2e630a"
   },
   "outputs": [
    {
     "data": {
      "text/plain": [
       "Text(0.5, 0, 'total number of Accidents')"
      ]
     },
     "execution_count": 51,
     "metadata": {},
     "output_type": "execute_result"
    },
    {
     "data": {
      "image/png": "[encoded data removed]",
      "text/plain": [
       "<Figure size 576x1440 with 1 Axes>"
      ]
     },
     "metadata": {
      "needs_background": "light"
     },
     "output_type": "display_data"
    }
   ],
   "source": [
    "dset_cr.total.sort_values().plot(kind='barh', figsize=(8,20), xticks=range(0,25), grid=False, width=0.65)\n",
    "plt.xlabel('total number of Accidents')\n"
   ]
  },
  {
   "cell_type": "code",
   "execution_count": 52,
   "metadata": {
    "_uuid": "dab5a6ea6c7b036c16263011698c0fed83b6174e"
   },
   "outputs": [
    {
     "data": {
      "text/html": [
       "<style  type=\"text/css\" >\n",
       "    #T_a3d42440_3c49_11ea_874a_54bf64129b61row0_col0 {\n",
       "            background-color:  #00ff80;\n",
       "            color:  #000000;\n",
       "        }    #T_a3d42440_3c49_11ea_874a_54bf64129b61row0_col1 {\n",
       "            background-color:  #0033e6;\n",
       "            color:  #f1f1f1;\n",
       "        }    #T_a3d42440_3c49_11ea_874a_54bf64129b61row0_col2 {\n",
       "            background-color:  #00aaaa;\n",
       "            color:  #000000;\n",
       "        }    #T_a3d42440_3c49_11ea_874a_54bf64129b61row0_col3 {\n",
       "            background-color:  #00ff80;\n",
       "            color:  #000000;\n",
       "        }    #T_a3d42440_3c49_11ea_874a_54bf64129b61row0_col4 {\n",
       "            background-color:  #0000ff;\n",
       "            color:  #f1f1f1;\n",
       "        }    #T_a3d42440_3c49_11ea_874a_54bf64129b61row0_col5 {\n",
       "            background-color:  #00ff80;\n",
       "            color:  #000000;\n",
       "        }    #T_a3d42440_3c49_11ea_874a_54bf64129b61row1_col0 {\n",
       "            background-color:  #0049db;\n",
       "            color:  #f1f1f1;\n",
       "        }    #T_a3d42440_3c49_11ea_874a_54bf64129b61row1_col1 {\n",
       "            background-color:  #00ff80;\n",
       "            color:  #000000;\n",
       "        }    #T_a3d42440_3c49_11ea_874a_54bf64129b61row1_col2 {\n",
       "            background-color:  #00ff80;\n",
       "            color:  #000000;\n",
       "        }    #T_a3d42440_3c49_11ea_874a_54bf64129b61row1_col3 {\n",
       "            background-color:  #0000ff;\n",
       "            color:  #f1f1f1;\n",
       "        }    #T_a3d42440_3c49_11ea_874a_54bf64129b61row1_col4 {\n",
       "            background-color:  #0000ff;\n",
       "            color:  #f1f1f1;\n",
       "        }    #T_a3d42440_3c49_11ea_874a_54bf64129b61row1_col5 {\n",
       "            background-color:  #00a2ae;\n",
       "            color:  #000000;\n",
       "        }    #T_a3d42440_3c49_11ea_874a_54bf64129b61row2_col0 {\n",
       "            background-color:  #00b6a4;\n",
       "            color:  #000000;\n",
       "        }    #T_a3d42440_3c49_11ea_874a_54bf64129b61row2_col1 {\n",
       "            background-color:  #0066cc;\n",
       "            color:  #f1f1f1;\n",
       "        }    #T_a3d42440_3c49_11ea_874a_54bf64129b61row2_col2 {\n",
       "            background-color:  #0000ff;\n",
       "            color:  #f1f1f1;\n",
       "        }    #T_a3d42440_3c49_11ea_874a_54bf64129b61row2_col3 {\n",
       "            background-color:  #0000ff;\n",
       "            color:  #f1f1f1;\n",
       "        }    #T_a3d42440_3c49_11ea_874a_54bf64129b61row2_col4 {\n",
       "            background-color:  #0000ff;\n",
       "            color:  #f1f1f1;\n",
       "        }    #T_a3d42440_3c49_11ea_874a_54bf64129b61row2_col5 {\n",
       "            background-color:  #005dd0;\n",
       "            color:  #f1f1f1;\n",
       "        }    #T_a3d42440_3c49_11ea_874a_54bf64129b61row3_col0 {\n",
       "            background-color:  #00db92;\n",
       "            color:  #000000;\n",
       "        }    #T_a3d42440_3c49_11ea_874a_54bf64129b61row3_col1 {\n",
       "            background-color:  #0000ff;\n",
       "            color:  #f1f1f1;\n",
       "        }    #T_a3d42440_3c49_11ea_874a_54bf64129b61row3_col2 {\n",
       "            background-color:  #0000ff;\n",
       "            color:  #f1f1f1;\n",
       "        }    #T_a3d42440_3c49_11ea_874a_54bf64129b61row3_col3 {\n",
       "            background-color:  #0000ff;\n",
       "            color:  #f1f1f1;\n",
       "        }    #T_a3d42440_3c49_11ea_874a_54bf64129b61row3_col4 {\n",
       "            background-color:  #0000ff;\n",
       "            color:  #f1f1f1;\n",
       "        }    #T_a3d42440_3c49_11ea_874a_54bf64129b61row3_col5 {\n",
       "            background-color:  #0045dc;\n",
       "            color:  #f1f1f1;\n",
       "        }    #T_a3d42440_3c49_11ea_874a_54bf64129b61row4_col0 {\n",
       "            background-color:  #0024ed;\n",
       "            color:  #f1f1f1;\n",
       "        }    #T_a3d42440_3c49_11ea_874a_54bf64129b61row4_col1 {\n",
       "            background-color:  #0066cc;\n",
       "            color:  #f1f1f1;\n",
       "        }    #T_a3d42440_3c49_11ea_874a_54bf64129b61row4_col2 {\n",
       "            background-color:  #0055d4;\n",
       "            color:  #f1f1f1;\n",
       "        }    #T_a3d42440_3c49_11ea_874a_54bf64129b61row4_col3 {\n",
       "            background-color:  #0000ff;\n",
       "            color:  #f1f1f1;\n",
       "        }    #T_a3d42440_3c49_11ea_874a_54bf64129b61row4_col4 {\n",
       "            background-color:  #0000ff;\n",
       "            color:  #f1f1f1;\n",
       "        }    #T_a3d42440_3c49_11ea_874a_54bf64129b61row4_col5 {\n",
       "            background-color:  #0017f4;\n",
       "            color:  #f1f1f1;\n",
       "        }    #T_a3d42440_3c49_11ea_874a_54bf64129b61row5_col0 {\n",
       "            background-color:  #0000ff;\n",
       "            color:  #f1f1f1;\n",
       "        }    #T_a3d42440_3c49_11ea_874a_54bf64129b61row5_col1 {\n",
       "            background-color:  #0066cc;\n",
       "            color:  #f1f1f1;\n",
       "        }    #T_a3d42440_3c49_11ea_874a_54bf64129b61row5_col2 {\n",
       "            background-color:  #0000ff;\n",
       "            color:  #f1f1f1;\n",
       "        }    #T_a3d42440_3c49_11ea_874a_54bf64129b61row5_col3 {\n",
       "            background-color:  #0040df;\n",
       "            color:  #f1f1f1;\n",
       "        }    #T_a3d42440_3c49_11ea_874a_54bf64129b61row5_col4 {\n",
       "            background-color:  #0000ff;\n",
       "            color:  #f1f1f1;\n",
       "        }    #T_a3d42440_3c49_11ea_874a_54bf64129b61row5_col5 {\n",
       "            background-color:  #0000ff;\n",
       "            color:  #f1f1f1;\n",
       "        }</style><table id=\"T_a3d42440_3c49_11ea_874a_54bf64129b61\" ><thead>    <tr>        <th class=\"index_name level0\" >Accident Level</th>        <th class=\"col_heading level0 col0\" >I</th>        <th class=\"col_heading level0 col1\" >II</th>        <th class=\"col_heading level0 col2\" >III</th>        <th class=\"col_heading level0 col3\" >IV</th>        <th class=\"col_heading level0 col4\" >V</th>        <th class=\"col_heading level0 col5\" >total</th>    </tr>    <tr>        <th class=\"index_name level0\" >Critical Risk</th>        <th class=\"blank\" ></th>        <th class=\"blank\" ></th>        <th class=\"blank\" ></th>        <th class=\"blank\" ></th>        <th class=\"blank\" ></th>        <th class=\"blank\" ></th>    </tr></thead><tbody>\n",
       "                <tr>\n",
       "                        <th id=\"T_a3d42440_3c49_11ea_874a_54bf64129b61level0_row0\" class=\"row_heading level0 row0\" >Pressed</th>\n",
       "                        <td id=\"T_a3d42440_3c49_11ea_874a_54bf64129b61row0_col0\" class=\"data row0 col0\" >17</td>\n",
       "                        <td id=\"T_a3d42440_3c49_11ea_874a_54bf64129b61row0_col1\" class=\"data row0 col1\" >1</td>\n",
       "                        <td id=\"T_a3d42440_3c49_11ea_874a_54bf64129b61row0_col2\" class=\"data row0 col2\" >2</td>\n",
       "                        <td id=\"T_a3d42440_3c49_11ea_874a_54bf64129b61row0_col3\" class=\"data row0 col3\" >4</td>\n",
       "                        <td id=\"T_a3d42440_3c49_11ea_874a_54bf64129b61row0_col4\" class=\"data row0 col4\" >0</td>\n",
       "                        <td id=\"T_a3d42440_3c49_11ea_874a_54bf64129b61row0_col5\" class=\"data row0 col5\" >24</td>\n",
       "            </tr>\n",
       "            <tr>\n",
       "                        <th id=\"T_a3d42440_3c49_11ea_874a_54bf64129b61level0_row1\" class=\"row_heading level0 row1\" >Manual Tools</th>\n",
       "                        <td id=\"T_a3d42440_3c49_11ea_874a_54bf64129b61row1_col0\" class=\"data row1 col0\" >12</td>\n",
       "                        <td id=\"T_a3d42440_3c49_11ea_874a_54bf64129b61row1_col1\" class=\"data row1 col1\" >5</td>\n",
       "                        <td id=\"T_a3d42440_3c49_11ea_874a_54bf64129b61row1_col2\" class=\"data row1 col2\" >3</td>\n",
       "                        <td id=\"T_a3d42440_3c49_11ea_874a_54bf64129b61row1_col3\" class=\"data row1 col3\" >0</td>\n",
       "                        <td id=\"T_a3d42440_3c49_11ea_874a_54bf64129b61row1_col4\" class=\"data row1 col4\" >0</td>\n",
       "                        <td id=\"T_a3d42440_3c49_11ea_874a_54bf64129b61row1_col5\" class=\"data row1 col5\" >20</td>\n",
       "            </tr>\n",
       "            <tr>\n",
       "                        <th id=\"T_a3d42440_3c49_11ea_874a_54bf64129b61level0_row2\" class=\"row_heading level0 row2\" >Chemical substances</th>\n",
       "                        <td id=\"T_a3d42440_3c49_11ea_874a_54bf64129b61row2_col0\" class=\"data row2 col0\" >15</td>\n",
       "                        <td id=\"T_a3d42440_3c49_11ea_874a_54bf64129b61row2_col1\" class=\"data row2 col1\" >2</td>\n",
       "                        <td id=\"T_a3d42440_3c49_11ea_874a_54bf64129b61row2_col2\" class=\"data row2 col2\" >0</td>\n",
       "                        <td id=\"T_a3d42440_3c49_11ea_874a_54bf64129b61row2_col3\" class=\"data row2 col3\" >0</td>\n",
       "                        <td id=\"T_a3d42440_3c49_11ea_874a_54bf64129b61row2_col4\" class=\"data row2 col4\" >0</td>\n",
       "                        <td id=\"T_a3d42440_3c49_11ea_874a_54bf64129b61row2_col5\" class=\"data row2 col5\" >17</td>\n",
       "            </tr>\n",
       "            <tr>\n",
       "                        <th id=\"T_a3d42440_3c49_11ea_874a_54bf64129b61level0_row3\" class=\"row_heading level0 row3\" >Venomous Animals</th>\n",
       "                        <td id=\"T_a3d42440_3c49_11ea_874a_54bf64129b61row3_col0\" class=\"data row3 col0\" >16</td>\n",
       "                        <td id=\"T_a3d42440_3c49_11ea_874a_54bf64129b61row3_col1\" class=\"data row3 col1\" >0</td>\n",
       "                        <td id=\"T_a3d42440_3c49_11ea_874a_54bf64129b61row3_col2\" class=\"data row3 col2\" >0</td>\n",
       "                        <td id=\"T_a3d42440_3c49_11ea_874a_54bf64129b61row3_col3\" class=\"data row3 col3\" >0</td>\n",
       "                        <td id=\"T_a3d42440_3c49_11ea_874a_54bf64129b61row3_col4\" class=\"data row3 col4\" >0</td>\n",
       "                        <td id=\"T_a3d42440_3c49_11ea_874a_54bf64129b61row3_col5\" class=\"data row3 col5\" >16</td>\n",
       "            </tr>\n",
       "            <tr>\n",
       "                        <th id=\"T_a3d42440_3c49_11ea_874a_54bf64129b61level0_row4\" class=\"row_heading level0 row4\" >Cut</th>\n",
       "                        <td id=\"T_a3d42440_3c49_11ea_874a_54bf64129b61row4_col0\" class=\"data row4 col0\" >11</td>\n",
       "                        <td id=\"T_a3d42440_3c49_11ea_874a_54bf64129b61row4_col1\" class=\"data row4 col1\" >2</td>\n",
       "                        <td id=\"T_a3d42440_3c49_11ea_874a_54bf64129b61row4_col2\" class=\"data row4 col2\" >1</td>\n",
       "                        <td id=\"T_a3d42440_3c49_11ea_874a_54bf64129b61row4_col3\" class=\"data row4 col3\" >0</td>\n",
       "                        <td id=\"T_a3d42440_3c49_11ea_874a_54bf64129b61row4_col4\" class=\"data row4 col4\" >0</td>\n",
       "                        <td id=\"T_a3d42440_3c49_11ea_874a_54bf64129b61row4_col5\" class=\"data row4 col5\" >14</td>\n",
       "            </tr>\n",
       "            <tr>\n",
       "                        <th id=\"T_a3d42440_3c49_11ea_874a_54bf64129b61level0_row5\" class=\"row_heading level0 row5\" >Projection</th>\n",
       "                        <td id=\"T_a3d42440_3c49_11ea_874a_54bf64129b61row5_col0\" class=\"data row5 col0\" >10</td>\n",
       "                        <td id=\"T_a3d42440_3c49_11ea_874a_54bf64129b61row5_col1\" class=\"data row5 col1\" >2</td>\n",
       "                        <td id=\"T_a3d42440_3c49_11ea_874a_54bf64129b61row5_col2\" class=\"data row5 col2\" >0</td>\n",
       "                        <td id=\"T_a3d42440_3c49_11ea_874a_54bf64129b61row5_col3\" class=\"data row5 col3\" >1</td>\n",
       "                        <td id=\"T_a3d42440_3c49_11ea_874a_54bf64129b61row5_col4\" class=\"data row5 col4\" >0</td>\n",
       "                        <td id=\"T_a3d42440_3c49_11ea_874a_54bf64129b61row5_col5\" class=\"data row5 col5\" >13</td>\n",
       "            </tr>\n",
       "    </tbody></table>"
      ],
      "text/plain": [
       "<pandas.io.formats.style.Styler at 0x156a32b5048>"
      ]
     },
     "execution_count": 52,
     "metadata": {},
     "output_type": "execute_result"
    }
   ],
   "source": [
    "dset_cr.nlargest(6, 'total').style.background_gradient(cmap='winter')"
   ]
  },
  {
   "cell_type": "code",
   "execution_count": 53,
   "metadata": {
    "_uuid": "3393dbdaa30dbe91e3b7b87662417841889213bf"
   },
   "outputs": [
    {
     "data": {
      "text/html": [
       "<div>\n",
       "<style scoped>\n",
       "    .dataframe tbody tr th:only-of-type {\n",
       "        vertical-align: middle;\n",
       "    }\n",
       "\n",
       "    .dataframe tbody tr th {\n",
       "        vertical-align: top;\n",
       "    }\n",
       "\n",
       "    .dataframe thead th {\n",
       "        text-align: right;\n",
       "    }\n",
       "</style>\n",
       "<table border=\"1\" class=\"dataframe\">\n",
       "  <thead>\n",
       "    <tr style=\"text-align: right;\">\n",
       "      <th>Industry Sector</th>\n",
       "      <th>Metals</th>\n",
       "      <th>Mining</th>\n",
       "      <th>Others</th>\n",
       "      <th>total</th>\n",
       "    </tr>\n",
       "    <tr>\n",
       "      <th>Critical Risk</th>\n",
       "      <th></th>\n",
       "      <th></th>\n",
       "      <th></th>\n",
       "      <th></th>\n",
       "    </tr>\n",
       "  </thead>\n",
       "  <tbody>\n",
       "    <tr>\n",
       "      <td>\\nNot applicable</td>\n",
       "      <td>1.0</td>\n",
       "      <td>0.0</td>\n",
       "      <td>0.0</td>\n",
       "      <td>1.0</td>\n",
       "    </tr>\n",
       "    <tr>\n",
       "      <td>Bees</td>\n",
       "      <td>0.0</td>\n",
       "      <td>0.0</td>\n",
       "      <td>10.0</td>\n",
       "      <td>10.0</td>\n",
       "    </tr>\n",
       "    <tr>\n",
       "      <td>Blocking and isolation of energies</td>\n",
       "      <td>3.0</td>\n",
       "      <td>0.0</td>\n",
       "      <td>0.0</td>\n",
       "      <td>3.0</td>\n",
       "    </tr>\n",
       "    <tr>\n",
       "      <td>Burn</td>\n",
       "      <td>1.0</td>\n",
       "      <td>0.0</td>\n",
       "      <td>0.0</td>\n",
       "      <td>1.0</td>\n",
       "    </tr>\n",
       "    <tr>\n",
       "      <td>Chemical substances</td>\n",
       "      <td>15.0</td>\n",
       "      <td>2.0</td>\n",
       "      <td>0.0</td>\n",
       "      <td>17.0</td>\n",
       "    </tr>\n",
       "    <tr>\n",
       "      <td>Confined space</td>\n",
       "      <td>1.0</td>\n",
       "      <td>0.0</td>\n",
       "      <td>0.0</td>\n",
       "      <td>1.0</td>\n",
       "    </tr>\n",
       "    <tr>\n",
       "      <td>Cut</td>\n",
       "      <td>10.0</td>\n",
       "      <td>4.0</td>\n",
       "      <td>0.0</td>\n",
       "      <td>14.0</td>\n",
       "    </tr>\n",
       "    <tr>\n",
       "      <td>Electrical Shock</td>\n",
       "      <td>0.0</td>\n",
       "      <td>2.0</td>\n",
       "      <td>0.0</td>\n",
       "      <td>2.0</td>\n",
       "    </tr>\n",
       "    <tr>\n",
       "      <td>Electrical installation</td>\n",
       "      <td>0.0</td>\n",
       "      <td>1.0</td>\n",
       "      <td>0.0</td>\n",
       "      <td>1.0</td>\n",
       "    </tr>\n",
       "    <tr>\n",
       "      <td>Fall</td>\n",
       "      <td>2.0</td>\n",
       "      <td>5.0</td>\n",
       "      <td>2.0</td>\n",
       "      <td>9.0</td>\n",
       "    </tr>\n",
       "    <tr>\n",
       "      <td>Fall prevention</td>\n",
       "      <td>3.0</td>\n",
       "      <td>2.0</td>\n",
       "      <td>1.0</td>\n",
       "      <td>6.0</td>\n",
       "    </tr>\n",
       "    <tr>\n",
       "      <td>Fall prevention (same level)</td>\n",
       "      <td>6.0</td>\n",
       "      <td>1.0</td>\n",
       "      <td>0.0</td>\n",
       "      <td>7.0</td>\n",
       "    </tr>\n",
       "    <tr>\n",
       "      <td>Individual protection equipment</td>\n",
       "      <td>0.0</td>\n",
       "      <td>1.0</td>\n",
       "      <td>0.0</td>\n",
       "      <td>1.0</td>\n",
       "    </tr>\n",
       "    <tr>\n",
       "      <td>Liquid Metal</td>\n",
       "      <td>3.0</td>\n",
       "      <td>0.0</td>\n",
       "      <td>0.0</td>\n",
       "      <td>3.0</td>\n",
       "    </tr>\n",
       "    <tr>\n",
       "      <td>Machine Protection</td>\n",
       "      <td>2.0</td>\n",
       "      <td>0.0</td>\n",
       "      <td>0.0</td>\n",
       "      <td>2.0</td>\n",
       "    </tr>\n",
       "    <tr>\n",
       "      <td>Manual Tools</td>\n",
       "      <td>14.0</td>\n",
       "      <td>5.0</td>\n",
       "      <td>1.0</td>\n",
       "      <td>20.0</td>\n",
       "    </tr>\n",
       "    <tr>\n",
       "      <td>Plates</td>\n",
       "      <td>1.0</td>\n",
       "      <td>0.0</td>\n",
       "      <td>0.0</td>\n",
       "      <td>1.0</td>\n",
       "    </tr>\n",
       "    <tr>\n",
       "      <td>Poll</td>\n",
       "      <td>0.0</td>\n",
       "      <td>0.0</td>\n",
       "      <td>1.0</td>\n",
       "      <td>1.0</td>\n",
       "    </tr>\n",
       "    <tr>\n",
       "      <td>Power lock</td>\n",
       "      <td>1.0</td>\n",
       "      <td>2.0</td>\n",
       "      <td>0.0</td>\n",
       "      <td>3.0</td>\n",
       "    </tr>\n",
       "    <tr>\n",
       "      <td>Pressed</td>\n",
       "      <td>17.0</td>\n",
       "      <td>7.0</td>\n",
       "      <td>0.0</td>\n",
       "      <td>24.0</td>\n",
       "    </tr>\n",
       "    <tr>\n",
       "      <td>Pressurized Systems</td>\n",
       "      <td>6.0</td>\n",
       "      <td>1.0</td>\n",
       "      <td>0.0</td>\n",
       "      <td>7.0</td>\n",
       "    </tr>\n",
       "    <tr>\n",
       "      <td>Pressurized Systems / Chemical Substances</td>\n",
       "      <td>3.0</td>\n",
       "      <td>0.0</td>\n",
       "      <td>0.0</td>\n",
       "      <td>3.0</td>\n",
       "    </tr>\n",
       "    <tr>\n",
       "      <td>Projection</td>\n",
       "      <td>4.0</td>\n",
       "      <td>9.0</td>\n",
       "      <td>0.0</td>\n",
       "      <td>13.0</td>\n",
       "    </tr>\n",
       "    <tr>\n",
       "      <td>Projection of fragments</td>\n",
       "      <td>0.0</td>\n",
       "      <td>2.0</td>\n",
       "      <td>0.0</td>\n",
       "      <td>2.0</td>\n",
       "    </tr>\n",
       "    <tr>\n",
       "      <td>Projection/Burning</td>\n",
       "      <td>1.0</td>\n",
       "      <td>0.0</td>\n",
       "      <td>0.0</td>\n",
       "      <td>1.0</td>\n",
       "    </tr>\n",
       "    <tr>\n",
       "      <td>Projection/Choco</td>\n",
       "      <td>0.0</td>\n",
       "      <td>0.0</td>\n",
       "      <td>1.0</td>\n",
       "      <td>1.0</td>\n",
       "    </tr>\n",
       "    <tr>\n",
       "      <td>Projection/Manual Tools</td>\n",
       "      <td>0.0</td>\n",
       "      <td>1.0</td>\n",
       "      <td>0.0</td>\n",
       "      <td>1.0</td>\n",
       "    </tr>\n",
       "    <tr>\n",
       "      <td>Suspended Loads</td>\n",
       "      <td>5.0</td>\n",
       "      <td>1.0</td>\n",
       "      <td>0.0</td>\n",
       "      <td>6.0</td>\n",
       "    </tr>\n",
       "    <tr>\n",
       "      <td>Traffic</td>\n",
       "      <td>0.0</td>\n",
       "      <td>0.0</td>\n",
       "      <td>1.0</td>\n",
       "      <td>1.0</td>\n",
       "    </tr>\n",
       "    <tr>\n",
       "      <td>Vehicles and Mobile Equipment</td>\n",
       "      <td>0.0</td>\n",
       "      <td>8.0</td>\n",
       "      <td>0.0</td>\n",
       "      <td>8.0</td>\n",
       "    </tr>\n",
       "    <tr>\n",
       "      <td>Venomous Animals</td>\n",
       "      <td>2.0</td>\n",
       "      <td>1.0</td>\n",
       "      <td>13.0</td>\n",
       "      <td>16.0</td>\n",
       "    </tr>\n",
       "    <tr>\n",
       "      <td>remains of choco</td>\n",
       "      <td>0.0</td>\n",
       "      <td>7.0</td>\n",
       "      <td>0.0</td>\n",
       "      <td>7.0</td>\n",
       "    </tr>\n",
       "  </tbody>\n",
       "</table>\n",
       "</div>"
      ],
      "text/plain": [
       "Industry Sector                            Metals  Mining  Others  total\n",
       "Critical Risk                                                           \n",
       "\\nNot applicable                              1.0     0.0     0.0    1.0\n",
       "Bees                                          0.0     0.0    10.0   10.0\n",
       "Blocking and isolation of energies            3.0     0.0     0.0    3.0\n",
       "Burn                                          1.0     0.0     0.0    1.0\n",
       "Chemical substances                          15.0     2.0     0.0   17.0\n",
       "Confined space                                1.0     0.0     0.0    1.0\n",
       "Cut                                          10.0     4.0     0.0   14.0\n",
       "Electrical Shock                              0.0     2.0     0.0    2.0\n",
       "Electrical installation                       0.0     1.0     0.0    1.0\n",
       "Fall                                          2.0     5.0     2.0    9.0\n",
       "Fall prevention                               3.0     2.0     1.0    6.0\n",
       "Fall prevention (same level)                  6.0     1.0     0.0    7.0\n",
       "Individual protection equipment               0.0     1.0     0.0    1.0\n",
       "Liquid Metal                                  3.0     0.0     0.0    3.0\n",
       "Machine Protection                            2.0     0.0     0.0    2.0\n",
       "Manual Tools                                 14.0     5.0     1.0   20.0\n",
       "Plates                                        1.0     0.0     0.0    1.0\n",
       "Poll                                          0.0     0.0     1.0    1.0\n",
       "Power lock                                    1.0     2.0     0.0    3.0\n",
       "Pressed                                      17.0     7.0     0.0   24.0\n",
       "Pressurized Systems                           6.0     1.0     0.0    7.0\n",
       "Pressurized Systems / Chemical Substances     3.0     0.0     0.0    3.0\n",
       "Projection                                    4.0     9.0     0.0   13.0\n",
       "Projection of fragments                       0.0     2.0     0.0    2.0\n",
       "Projection/Burning                            1.0     0.0     0.0    1.0\n",
       "Projection/Choco                              0.0     0.0     1.0    1.0\n",
       "Projection/Manual Tools                       0.0     1.0     0.0    1.0\n",
       "Suspended Loads                               5.0     1.0     0.0    6.0\n",
       "Traffic                                       0.0     0.0     1.0    1.0\n",
       "Vehicles and Mobile Equipment                 0.0     8.0     0.0    8.0\n",
       "Venomous Animals                              2.0     1.0    13.0   16.0\n",
       "remains of choco                              0.0     7.0     0.0    7.0"
      ]
     },
     "execution_count": 53,
     "metadata": {},
     "output_type": "execute_result"
    }
   ],
   "source": [
    "dset_ind_risk=dset.pivot_table(index='Critical Risk', columns='Industry Sector', aggfunc='count')['Accident Level']\n",
    "dset_ind_risk.drop('Others', axis=0, inplace=True)\n",
    "dset_ind_risk.replace(n, 0, inplace=True)\n",
    "dset_ind_risk['total']=dset_ind_risk.sum(axis=1)\n",
    "dset_ind_risk"
   ]
  },
  {
   "cell_type": "code",
   "execution_count": 54,
   "metadata": {
    "_uuid": "5187e3b8ce29f9e4fca0cd37d55b70ae755c888a"
   },
   "outputs": [
    {
     "data": {
      "text/plain": [
       "(array([0, 1, 2, 3, 4, 5]), <a list of 6 Text xticklabel objects>)"
      ]
     },
     "execution_count": 54,
     "metadata": {},
     "output_type": "execute_result"
    },
    {
     "data": {
      "image/png": "[encoded data removed]",
      "text/plain": [
       "<Figure size 1080x360 with 1 Axes>"
      ]
     },
     "metadata": {
      "needs_background": "light"
     },
     "output_type": "display_data"
    }
   ],
   "source": [
    "dset_ind_risk.nlargest(6,'total').plot(kind='bar', xticks=range(30), figsize=(15,5), cmap='summer')\n",
    "plt.xticks(rotation=90)"
   ]
  },
  {
   "cell_type": "code",
   "execution_count": 55,
   "metadata": {
    "_uuid": "9c23ad765c777881fbfb514eca6e9aed408a2e84"
   },
   "outputs": [],
   "source": [
    "dset_ind_risk_nt=dset_ind_risk.drop('total', axis=1)"
   ]
  },
  {
   "cell_type": "code",
   "execution_count": 56,
   "metadata": {
    "_uuid": "cba96cf4ff0116ccf2352a94f9243db782f843c5"
   },
   "outputs": [
    {
     "data": {
      "text/plain": [
       "Text(30, 14, 'V')"
      ]
     },
     "execution_count": 56,
     "metadata": {},
     "output_type": "execute_result"
    },
    {
     "data": {
      "image/png": "[encoded data removed]",
      "text/plain": [
       "<Figure size 1080x432 with 1 Axes>"
      ]
     },
     "metadata": {
      "needs_background": "light"
     },
     "output_type": "display_data"
    }
   ],
   "source": [
    "fig=dset_ind_risk_nt.plot(kind='bar', xticks=range(30),yticks=range(0,21), figsize=(15,6), cmap='Paired', width=0.9)\n",
    "fig.set_facecolor('#2B2B2B')\n",
    "plt.legend(bbox_to_anchor=(1.05, 1), loc=2, borderaxespad=0.)\n",
    "plt.text(x=0.9, y=11, s='V', color='#CD661D', fontsize=25)\n",
    "plt.text(x=3.3, y=16, s='V', color='#ADD8E6', fontsize=25)\n",
    "plt.text(x=5.4, y=11, s='V', color='#ADD8E6', fontsize=25)\n",
    "plt.text(x=14.4, y=15, s='V', color='#ADD8E6', fontsize=25)\n",
    "plt.text(x=18.4, y=17.5, s='V', color='#ADD8E6', fontsize=25)\n",
    "plt.text(x=21.6, y=10, s='V', color='#FFD39B', fontsize=25)\n",
    "plt.text(x=28.6, y=9, s='V', color='#FFD39B', fontsize=25)\n",
    "plt.text(x=30, y=14, s='V', color='#CD661D', fontsize=25)"
   ]
  },
  {
   "cell_type": "code",
   "execution_count": 57,
   "metadata": {
    "_uuid": "0b39873fa5efac7f533ae7f6acb7f519a3983ee0"
   },
   "outputs": [],
   "source": [
    "dset_risk_other=dset.loc[dset['Critical Risk']=='Others']"
   ]
  },
  {
   "cell_type": "code",
   "execution_count": 58,
   "metadata": {
    "_uuid": "bcf7b15205d4c97de91e9a2c6713cc8294c9d33c"
   },
   "outputs": [
    {
     "data": {
      "text/plain": [
       "<matplotlib.axes._subplots.AxesSubplot at 0x156a35afdc8>"
      ]
     },
     "execution_count": 58,
     "metadata": {},
     "output_type": "execute_result"
    },
    {
     "data": {
      "image/png": "[encoded data removed]",
      "text/plain": [
       "<Figure size 432x288 with 1 Axes>"
      ]
     },
     "metadata": {
      "needs_background": "light"
     },
     "output_type": "display_data"
    }
   ],
   "source": [
    "sns.countplot('Employee type', data=dset_risk_other)"
   ]
  },
  {
   "cell_type": "code",
   "execution_count": 59,
   "metadata": {
    "_uuid": "4b5cc914870e74b764e0f54e4ad5bf3e77a98cc5"
   },
   "outputs": [
    {
     "data": {
      "text/plain": [
       "<matplotlib.axes._subplots.AxesSubplot at 0x156a3be3a88>"
      ]
     },
     "execution_count": 59,
     "metadata": {},
     "output_type": "execute_result"
    },
    {
     "data": {
      "image/png": "[encoded data removed]",
      "text/plain": [
       "<Figure size 432x288 with 1 Axes>"
      ]
     },
     "metadata": {
      "needs_background": "light"
     },
     "output_type": "display_data"
    }
   ],
   "source": [
    "sns.distplot(dset_risk_other['Accident Impact'])"
   ]
  },
  {
   "cell_type": "code",
   "execution_count": null,
   "metadata": {
    "_uuid": "6a4e6270d6840ccd945ed481a1806452fdb1e24e"
   },
   "outputs": [],
   "source": []
  }
 ],
 "metadata": {
  "kernelspec": {
   "display_name": "Python 3",
   "language": "python",
   "name": "python3"
  },
  "language_info": {
   "codemirror_mode": {
    "name": "ipython",
    "version": 3
   },
   "file_extension": ".py",
   "mimetype": "text/x-python",
   "name": "python",
   "nbconvert_exporter": "python",
   "pygments_lexer": "ipython3",
   "version": "3.7.6"
  }
 },
 "nbformat": 4,
 "nbformat_minor": 1
}
